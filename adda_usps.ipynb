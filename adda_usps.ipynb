{
 "cells": [
  {
   "cell_type": "code",
   "execution_count": 1,
   "metadata": {},
   "outputs": [],
   "source": [
    "import tensorflow as tf\n",
    "import numpy as np\n",
    "import h5py\n",
    "import matplotlib.pyplot as plt\n",
    "import pickle as pkl\n",
    "import os\n",
    "from tensorflow import keras\n",
    "from tensorflow.keras import layers"
   ]
  },
  {
   "cell_type": "code",
   "execution_count": 2,
   "metadata": {},
   "outputs": [
    {
     "name": "stdout",
     "output_type": "stream",
     "text": [
      "(60000, 28, 28, 3)\n",
      "(10000, 28, 28, 3)\n"
     ]
    }
   ],
   "source": [
    "# Load MNIST\n",
    "(mnist_X, mnist_y), (mnist_X_, mnist_y_)= tf.keras.datasets.mnist.load_data()\n",
    "\n",
    "mnist_X = np.reshape(mnist_X,(60000, 28, 28, 1)) / 255\n",
    "mnist_X = np.tile(mnist_X, (1, 1, 1, 3))\n",
    "mnist_X = mnist_X.astype('float32')\n",
    "print(mnist_X.shape)\n",
    "\n",
    "mnist_X_ = np.reshape(mnist_X_,(10000, 28, 28, 1)) / 255\n",
    "mnist_X_ = np.tile(mnist_X_, (1, 1, 1, 3))\n",
    "mnist_X_ = mnist_X_.astype('float32')\n",
    "print(mnist_X_.shape)"
   ]
  },
  {
   "cell_type": "code",
   "execution_count": 3,
   "metadata": {},
   "outputs": [
    {
     "name": "stdout",
     "output_type": "stream",
     "text": [
      "(7291, 28, 28, 3)\n",
      "(2007, 28, 28, 3)\n"
     ]
    }
   ],
   "source": [
    "# Load USPS\n",
    "with h5py.File('usps.h5', 'r') as hf:\n",
    "    usps_train = hf.get('train')\n",
    "    usps_X = usps_train.get('data')[:]\n",
    "    usps_y = usps_train.get('target')[:]\n",
    "    usps_test = hf.get('test')\n",
    "    usps_X_ = usps_test.get('data')[:]\n",
    "    usps_y_ = usps_test.get('target')[:]\n",
    "\n",
    "padding = [[0, 0],\n",
    "           [6, 6],\n",
    "           [6, 6],\n",
    "           [0, 0]]\n",
    "\n",
    "usps_X = np.reshape(usps_X, (-1, 16, 16, 1))\n",
    "usps_X = np.tile(usps_X, (1,1,1,3))\n",
    "usps_X = tf.pad(usps_X, padding, 'CONSTANT').numpy()\n",
    "print(usps_X.shape)\n",
    "\n",
    "usps_X_ = np.reshape(usps_X_, (-1, 16, 16, 1))\n",
    "usps_X_ = np.tile(usps_X_, (1,1,1,3))\n",
    "usps_X_ = tf.pad(usps_X_, padding, 'CONSTANT').numpy()\n",
    "print(usps_X_.shape)"
   ]
  },
  {
   "cell_type": "code",
   "execution_count": 4,
   "metadata": {},
   "outputs": [],
   "source": [
    "# Load MNIST-M\n",
    "mnistm = pkl.load(open('mnistm.pkl', 'rb'))\n",
    "mnistm_X = mnistm['train'] / 255\n",
    "mnistm_X = mnistm_X.astype('float32')\n",
    "mnistm_X_ = mnistm['test'] / 255\n",
    "mnistm_X_ = mnistm_X_.astype('float32')"
   ]
  },
  {
   "cell_type": "code",
   "execution_count": 5,
   "metadata": {},
   "outputs": [
    {
     "name": "stdout",
     "output_type": "stream",
     "text": [
      "MNIST SAMPLE: 3\n",
      "USPS SAMPLE: 7\n",
      "USPS SAMPLE: 3\n"
     ]
    },
    {
     "data": {
      "image/png": "[encoded data removed]",
      "text/plain": [
       "<Figure size 432x288 with 2 Axes>"
      ]
     },
     "metadata": {
      "needs_background": "light"
     },
     "output_type": "display_data"
    },
    {
     "data": {
      "image/png": "[encoded data removed]",
      "text/plain": [
       "<Figure size 432x288 with 2 Axes>"
      ]
     },
     "metadata": {
      "needs_background": "light"
     },
     "output_type": "display_data"
    },
    {
     "data": {
      "image/png": "[encoded data removed]",
      "text/plain": [
       "<Figure size 432x288 with 2 Axes>"
      ]
     },
     "metadata": {
      "needs_background": "light"
     },
     "output_type": "display_data"
    }
   ],
   "source": [
    "def show_img(img):\n",
    "    plt.figure()\n",
    "    plt.imshow(img)\n",
    "    plt.colorbar()\n",
    "\n",
    "print(\"MNIST SAMPLE: {}\".format(mnist_y[10]))\n",
    "show_img(mnist_X[10])\n",
    "print(\"USPS SAMPLE: {}\".format(usps_y[10]))\n",
    "show_img(usps_X[10])\n",
    "print(\"USPS SAMPLE: {}\".format(mnist_y[10]))\n",
    "show_img(mnistm_X[10])"
   ]
  },
  {
   "cell_type": "markdown",
   "metadata": {},
   "source": [
    "### Dataset Details\n",
    "\n",
    " - For adaptation between MNIST and USPS, we follow the training protocol established in [21], __sampling 2000 images from MNIST and 1800 from USPS.__"
   ]
  },
  {
   "cell_type": "markdown",
   "metadata": {},
   "source": [
    "### Model Details\n",
    "\n",
    " - our adversarial discriminator consists of 3 fully connected layers: two layers with 500 hidden units followed by the final discriminator output\n",
    " - Each of the 500-unit layers uses a ReLU activation function"
   ]
  },
  {
   "cell_type": "code",
   "execution_count": 6,
   "metadata": {},
   "outputs": [],
   "source": [
    "def LeNetEncoder():\n",
    "    model = tf.keras.Sequential()\n",
    "    \n",
    "    model.add(layers.Conv2D(20, (5, 5),\n",
    "                        activation='relu',\n",
    "                        input_shape=(28, 28, 3)))\n",
    "    model.add(layers.MaxPooling2D((2, 2)))\n",
    "    \n",
    "    model.add(layers.Conv2D(50, (5, 5),\n",
    "                        activation='relu',\n",
    "                        input_shape=(28, 28, 3)))\n",
    "    model.add(layers.MaxPooling2D((2, 2)))\n",
    "    model.add(layers.Flatten())\n",
    "    model.add(layers.Dropout(0.1))\n",
    "    \n",
    "    model.add(layers.Dense(500,\n",
    "                           activation='relu'))\n",
    "    \n",
    "    return model"
   ]
  },
  {
   "cell_type": "code",
   "execution_count": 7,
   "metadata": {},
   "outputs": [],
   "source": [
    "def LeNetClassifier():\n",
    "    model = tf.keras.Sequential()\n",
    "    model.add(layers.Dropout(0.1,\n",
    "                             input_shape=(500,)))\n",
    "    model.add(layers.Dense(10,\n",
    "                           activation='softmax'))\n",
    "    \n",
    "    return model"
   ]
  },
  {
   "cell_type": "code",
   "execution_count": 8,
   "metadata": {},
   "outputs": [],
   "source": [
    "def Critics():\n",
    "    model = tf.keras.Sequential()\n",
    "    model.add(layers.Dense(500,\n",
    "                           input_shape=(500,),\n",
    "                           activation='relu'))\n",
    "    model.add(layers.Dense(500,\n",
    "                           activation='relu'))\n",
    "    model.add(layers.Dense(2,\n",
    "                           activation='softmax'))\n",
    "    \n",
    "    return model"
   ]
  },
  {
   "cell_type": "code",
   "execution_count": 9,
   "metadata": {},
   "outputs": [],
   "source": [
    "source_encoder = LeNetEncoder()\n",
    "target_encoder = LeNetEncoder()\n",
    "source_classifier = LeNetClassifier()"
   ]
  },
  {
   "cell_type": "code",
   "execution_count": 10,
   "metadata": {},
   "outputs": [],
   "source": [
    "mnist_train_set = tf.data.Dataset.from_tensor_slices((mnist_X, mnist_y)).shuffle(buffer_size=mnist_X.shape[0]).batch(64)\n",
    "mnist_test_set = tf.data.Dataset.from_tensor_slices((mnist_X_, mnist_y_)).shuffle(buffer_size=mnist_X_.shape[0]).batch(64)\n",
    "usps_train_set = tf.data.Dataset.from_tensor_slices((usps_X, usps_y)).shuffle(buffer_size=usps_X.shape[0]).batch(64)\n",
    "usps_test_set = tf.data.Dataset.from_tensor_slices((usps_X_, usps_y_)).shuffle(buffer_size=usps_X_.shape[0]).batch(64)\n",
    "mnistm_train_set = tf.data.Dataset.from_tensor_slices((mnistm_X, mnist_y)).shuffle(buffer_size=mnist_X.shape[0]).batch(64)\n",
    "mnistm_test_set = tf.data.Dataset.from_tensor_slices((mnistm_X_, mnist_y_)).shuffle(buffer_size=mnist_X_.shape[0]).batch(64)"
   ]
  },
  {
   "cell_type": "code",
   "execution_count": 11,
   "metadata": {},
   "outputs": [],
   "source": [
    "# pre-train (1) source_encoder, (2) source_classifier\n",
    "@tf.function\n",
    "def pretrain_step(X, y):\n",
    "    with tf.GradientTape() as tape:\n",
    "        embedding = source_encoder(X)\n",
    "        pred = source_classifier(embedding)\n",
    "        loss_value = loss(y, pred)\n",
    "        \n",
    "    tvars = source_encoder.trainable_variables + source_classifier.trainable_variables\n",
    "    grads = tape.gradient(loss_value, tvars)\n",
    "    opt.apply_gradients(zip(grads, tvars))\n",
    "    \n",
    "    return pred, loss_value"
   ]
  },
  {
   "cell_type": "code",
   "execution_count": 12,
   "metadata": {},
   "outputs": [],
   "source": [
    "loss = keras.losses.SparseCategoricalCrossentropy()"
   ]
  },
  {
   "cell_type": "code",
   "execution_count": 33,
   "metadata": {},
   "outputs": [],
   "source": [
    "def model_eval(mydata, encoder, verbose=True):\n",
    "    avg = keras.metrics.Mean()\n",
    "    accuracy = keras.metrics.SparseCategoricalAccuracy()\n",
    "    for X, y in mydata:\n",
    "        # inference\n",
    "        ebd = encoder(X)\n",
    "        prob = source_classifier(ebd)\n",
    "        lv = loss(y, prob)\n",
    "\n",
    "        # results\n",
    "        avg(lv)\n",
    "        accuracy(y, prob)\n",
    "    \n",
    "    loss_v = avg.result().numpy()\n",
    "    accuracy_v = accuracy.result().numpy()\n",
    "    \n",
    "    if verbose:\n",
    "        print(\"Loss: {:.4}\".format(loss_v), end=\" | \")\n",
    "        print(\"Accuracy: {:.2%}\".format(accuracy_v))\n",
    "    \n",
    "    return loss_v, accuracy_v"
   ]
  },
  {
   "cell_type": "code",
   "execution_count": 31,
   "metadata": {},
   "outputs": [],
   "source": [
    "def pre_train(mydata, epoch, lr):\n",
    "    learning_rate = lr\n",
    "    \n",
    "    for epoch in range(5):\n",
    "        for X, y in mydata:\n",
    "            pred, lv = pretrain_step(X, y)\n",
    "            pred_idx = tf.argmax(pred, axis=1)\n",
    "            \n",
    "            learning_rate = learning_rate / (1 + epoch/10)\n",
    "            opt = tf.keras.optimizers.Adam(learning_rate=0.01)\n",
    "\n",
    "        l, a = model_eval(mnist_test_set, source_encoder, False)\n",
    "        print(\"Epoch:{}, Loss:{:.4}, Accuracy:{:.4}\"\n",
    "              .format(epoch,l,a))"
   ]
  },
  {
   "cell_type": "code",
   "execution_count": 34,
   "metadata": {},
   "outputs": [
    {
     "name": "stdout",
     "output_type": "stream",
     "text": [
      "Epoch:0, Loss:0.1431, Accuracy:0.9729\n",
      "Epoch:1, Loss:0.1197, Accuracy:0.9787\n",
      "Epoch:2, Loss:0.1386, Accuracy:0.9719\n",
      "Epoch:3, Loss:0.1812, Accuracy:0.9697\n",
      "Epoch:4, Loss:0.1254, Accuracy:0.9728\n"
     ]
    }
   ],
   "source": [
    "pre_train(mnist_train_set, 5, 0.01)"
   ]
  },
  {
   "cell_type": "code",
   "execution_count": 35,
   "metadata": {},
   "outputs": [
    {
     "name": "stdout",
     "output_type": "stream",
     "text": [
      "MNIST TEST:  Loss: 0.1254 | Accuracy: 97.28%\n",
      "USPS TEST:  Loss: 0.7081 | Accuracy: 84.30%\n",
      "MNISTM TEST:  Loss: 11.96 | Accuracy: 16.03%\n"
     ]
    },
    {
     "data": {
      "text/plain": [
       "(11.964923, 0.1603)"
      ]
     },
     "execution_count": 35,
     "metadata": {},
     "output_type": "execute_result"
    }
   ],
   "source": [
    "# Check Source Only Performance\n",
    "print(\"MNIST TEST: \", end=' ')\n",
    "model_eval(mnist_test_set, source_encoder)\n",
    "print(\"USPS TEST: \", end=' ')\n",
    "model_eval(usps_test_set, source_encoder)\n",
    "print(\"MNISTM TEST: \", end=' ')\n",
    "model_eval(mnistm_test_set, source_encoder)"
   ]
  },
  {
   "cell_type": "code",
   "execution_count": 36,
   "metadata": {},
   "outputs": [
    {
     "name": "stderr",
     "output_type": "stream",
     "text": [
      "W1209 22:45:47.757917 139908610459392 hdf5_format.py:224] No training configuration found in save file: the model was *not* compiled. Compile it manually.\n"
     ]
    }
   ],
   "source": [
    "source_encoder.save('mnist_train.h5')\n",
    "target_encoder = keras.models.load_model('mnist_train.h5')\n",
    "# source_encoder = keras.models.load_model('mnist_train.h5')"
   ]
  },
  {
   "cell_type": "code",
   "execution_count": 37,
   "metadata": {},
   "outputs": [
    {
     "name": "stdout",
     "output_type": "stream",
     "text": [
      "Loss: 0.1254 | Accuracy: 97.28%\n",
      "Loss: 0.1254 | Accuracy: 97.28%\n"
     ]
    },
    {
     "data": {
      "text/plain": [
       "(0.12539873, 0.9728)"
      ]
     },
     "execution_count": 37,
     "metadata": {},
     "output_type": "execute_result"
    }
   ],
   "source": [
    "# Check Model Load\n",
    "model_eval(mnist_test_set, source_encoder)\n",
    "model_eval(mnist_test_set, target_encoder)"
   ]
  },
  {
   "cell_type": "code",
   "execution_count": 39,
   "metadata": {},
   "outputs": [],
   "source": [
    "critic = Critics()\n",
    "cce = tf.keras.losses.SparseCategoricalCrossentropy()"
   ]
  },
  {
   "cell_type": "code",
   "execution_count": 46,
   "metadata": {},
   "outputs": [],
   "source": [
    "@tf.function\n",
    "def train_step(img_src, img_tgt):\n",
    "    # discriminator\n",
    "    with tf.GradientTape() as disc_tape:\n",
    "        source_ebd = source_encoder(img_src, training=False)\n",
    "        target_ebd = target_encoder(img_tgt, training=True)\n",
    "        concat_ebd = tf.concat([source_ebd, target_ebd], 0)\n",
    "\n",
    "        concat_pred = critic(concat_ebd, training=True)\n",
    "        \n",
    "        source_label = tf.ones_like(source_ebd[:, 0])\n",
    "        target_label = tf.zeros_like(target_ebd[:, 0])\n",
    "        concat_label = tf.concat([source_label, target_label], 0)\n",
    "        \n",
    "        disc_loss = cce(concat_label, concat_pred)\n",
    "\n",
    "    disc_grads = disc_tape.gradient(disc_loss, critic.trainable_variables)\n",
    "    disc_opt.apply_gradients(zip(disc_grads, critic.trainable_variables))\n",
    "    \n",
    "    with tf.GradientTape() as tgt_tape:\n",
    "        target_ebd = target_encoder(img_tgt, training=True)\n",
    "        target_pred = critic(target_ebd, training=False)\n",
    "        target_label = tf.ones_like(target_pred[:, 0])\n",
    "        \n",
    "        target_loss = cce(target_label, target_pred)\n",
    "        \n",
    "    target_grads = tgt_tape.gradient(target_loss, target_encoder.trainable_variables)\n",
    "    tgt_opt.apply_gradients(zip(target_grads, target_encoder.trainable_variables))\n",
    "    \n",
    "    return disc_loss, target_loss"
   ]
  },
  {
   "cell_type": "code",
   "execution_count": 47,
   "metadata": {},
   "outputs": [],
   "source": [
    "checkpoint_dir = './training_checkpoints'\n",
    "checkpoint_prefix = os.path.join(checkpoint_dir, \"ckpt\")\n",
    "\n",
    "dll = []\n",
    "tll = []"
   ]
  },
  {
   "cell_type": "code",
   "execution_count": 48,
   "metadata": {},
   "outputs": [
    {
     "name": "stdout",
     "output_type": "stream",
     "text": [
      "Epoch:0 => Loss: 3.621 | Accuracy: 37.59%\n",
      "Epoch:1 => Loss: 3.696 | Accuracy: 39.74%\n",
      "Epoch:2 => Loss: 3.697 | Accuracy: 41.15%\n",
      "Epoch:3 => Loss: 3.841 | Accuracy: 41.78%\n",
      "Epoch:4 => Loss: 4.012 | Accuracy: 42.15%\n",
      "Epoch:5 => Loss: 4.073 | Accuracy: 42.61%\n",
      "Epoch:6 => Loss: 4.071 | Accuracy: 42.45%\n",
      "Epoch:7 => Loss: 4.14 | Accuracy: 42.56%\n",
      "Epoch:8 => Loss: 4.151 | Accuracy: 42.96%\n",
      "Epoch:9 => Loss: 4.358 | Accuracy: 42.61%\n",
      "Epoch:10 => Loss: 4.319 | Accuracy: 43.17%\n",
      "Epoch:11 => Loss: 4.439 | Accuracy: 42.78%\n",
      "Epoch:12 => Loss: 4.467 | Accuracy: 42.91%\n",
      "Epoch:13 => Loss: 4.584 | Accuracy: 42.35%\n",
      "Epoch:14 => Loss: 4.574 | Accuracy: 42.92%\n",
      "Epoch:15 => Loss: 4.649 | Accuracy: 42.71%\n",
      "Epoch:16 => Loss: 4.777 | Accuracy: 42.49%\n",
      "Epoch:17 => Loss: 4.848 | Accuracy: 42.64%\n",
      "Epoch:18 => Loss: 4.89 | Accuracy: 42.90%\n",
      "Epoch:19 => Loss: 4.839 | Accuracy: 43.06%\n",
      "Epoch:20 => Loss: 4.898 | Accuracy: 42.99%\n",
      "Epoch:21 => Loss: 4.9 | Accuracy: 43.00%\n",
      "Epoch:22 => Loss: 4.956 | Accuracy: 43.24%\n",
      "Epoch:23 => Loss: 4.918 | Accuracy: 43.30%\n",
      "Epoch:24 => Loss: 4.939 | Accuracy: 43.66%\n",
      "Epoch:25 => Loss: 5.038 | Accuracy: 43.11%\n",
      "Epoch:26 => Loss: 5.025 | Accuracy: 43.62%\n",
      "Epoch:27 => Loss: 4.983 | Accuracy: 43.96%\n",
      "Epoch:28 => Loss: 5.014 | Accuracy: 43.84%\n",
      "Epoch:29 => Loss: 5.03 | Accuracy: 43.95%\n",
      "Epoch:30 => Loss: 5.031 | Accuracy: 44.02%\n",
      "Epoch:31 => Loss: 5.069 | Accuracy: 43.87%\n",
      "Epoch:32 => Loss: 5.123 | Accuracy: 44.20%\n",
      "Epoch:33 => Loss: 5.008 | Accuracy: 44.34%\n",
      "Epoch:34 => Loss: 5.083 | Accuracy: 44.32%\n",
      "Epoch:35 => Loss: 5.045 | Accuracy: 44.63%\n",
      "Epoch:36 => Loss: 5.09 | Accuracy: 44.34%\n",
      "Epoch:37 => Loss: 5.107 | Accuracy: 44.49%\n",
      "Epoch:38 => Loss: 5.112 | Accuracy: 44.79%\n",
      "Epoch:39 => Loss: 5.119 | Accuracy: 44.74%\n",
      "Epoch:40 => Loss: 5.11 | Accuracy: 44.85%\n",
      "Epoch:41 => Loss: 5.028 | Accuracy: 45.09%\n",
      "Epoch:42 => Loss: 5.102 | Accuracy: 44.99%\n",
      "Epoch:43 => Loss: 5.101 | Accuracy: 44.85%\n",
      "Epoch:44 => Loss: 5.069 | Accuracy: 45.11%\n",
      "Epoch:45 => Loss: 5.119 | Accuracy: 45.16%\n",
      "Epoch:46 => Loss: 5.031 | Accuracy: 45.44%\n",
      "Epoch:47 => Loss: 5.029 | Accuracy: 45.62%\n",
      "Epoch:48 => Loss: 5.104 | Accuracy: 45.28%\n",
      "Epoch:49 => Loss: 5.14 | Accuracy: 45.42%\n",
      "Epoch:50 => Loss: 5.163 | Accuracy: 45.62%\n",
      "Epoch:51 => Loss: 5.065 | Accuracy: 45.86%\n",
      "Epoch:52 => Loss: 5.137 | Accuracy: 45.49%\n",
      "Epoch:53 => Loss: 5.104 | Accuracy: 45.69%\n",
      "Epoch:54 => Loss: 5.147 | Accuracy: 45.66%\n",
      "Epoch:55 => Loss: 5.196 | Accuracy: 45.71%\n",
      "Epoch:56 => Loss: 5.144 | Accuracy: 45.94%\n",
      "Epoch:57 => Loss: 5.13 | Accuracy: 46.05%\n",
      "Epoch:58 => Loss: 5.154 | Accuracy: 46.01%\n",
      "Epoch:59 => Loss: 5.135 | Accuracy: 46.09%\n",
      "Epoch:60 => Loss: 5.058 | Accuracy: 46.32%\n",
      "Epoch:61 => Loss: 5.077 | Accuracy: 46.29%\n",
      "Epoch:62 => Loss: 5.098 | Accuracy: 46.36%\n",
      "Epoch:63 => Loss: 5.115 | Accuracy: 46.32%\n",
      "Epoch:64 => Loss: 5.192 | Accuracy: 46.09%\n",
      "Epoch:65 => Loss: 5.201 | Accuracy: 45.98%\n",
      "Epoch:66 => Loss: 5.2 | Accuracy: 46.04%\n",
      "Epoch:67 => Loss: 5.132 | Accuracy: 46.52%\n",
      "Epoch:68 => Loss: 5.113 | Accuracy: 46.36%\n",
      "Epoch:69 => Loss: 5.02 | Accuracy: 46.97%\n",
      "Epoch:70 => Loss: 5.123 | Accuracy: 46.65%\n",
      "Epoch:71 => Loss: 5.213 | Accuracy: 46.15%\n",
      "Epoch:72 => Loss: 5.163 | Accuracy: 46.33%\n",
      "Epoch:73 => Loss: 5.176 | Accuracy: 46.42%\n",
      "Epoch:74 => Loss: 5.134 | Accuracy: 46.86%\n",
      "Epoch:75 => Loss: 5.179 | Accuracy: 46.11%\n",
      "Epoch:76 => Loss: 5.15 | Accuracy: 46.65%\n",
      "Epoch:77 => Loss: 5.162 | Accuracy: 46.46%\n",
      "Epoch:78 => Loss: 5.142 | Accuracy: 46.49%\n",
      "Epoch:79 => Loss: 5.221 | Accuracy: 46.40%\n",
      "Epoch:80 => Loss: 5.241 | Accuracy: 45.68%\n",
      "Epoch:81 => Loss: 5.125 | Accuracy: 46.33%\n",
      "Epoch:82 => Loss: 5.111 | Accuracy: 46.89%\n",
      "Epoch:83 => Loss: 5.029 | Accuracy: 47.29%\n",
      "Epoch:84 => Loss: 5.236 | Accuracy: 46.22%\n",
      "Epoch:85 => Loss: 5.211 | Accuracy: 46.44%\n",
      "Epoch:86 => Loss: 5.192 | Accuracy: 46.71%\n",
      "Epoch:87 => Loss: 5.115 | Accuracy: 46.98%\n",
      "Epoch:88 => Loss: 5.164 | Accuracy: 46.79%\n",
      "Epoch:89 => Loss: 5.182 | Accuracy: 46.72%\n",
      "Epoch:90 => Loss: 5.177 | Accuracy: 46.94%\n",
      "Epoch:91 => Loss: 5.126 | Accuracy: 47.11%\n",
      "Epoch:92 => Loss: 5.145 | Accuracy: 47.25%\n",
      "Epoch:93 => Loss: 5.057 | Accuracy: 47.27%\n",
      "Epoch:94 => Loss: 5.194 | Accuracy: 46.73%\n",
      "Epoch:95 => Loss: 5.131 | Accuracy: 46.97%\n",
      "Epoch:96 => Loss: 5.061 | Accuracy: 47.76%\n",
      "Epoch:97 => Loss: 5.215 | Accuracy: 46.85%\n",
      "Epoch:98 => Loss: 5.197 | Accuracy: 46.72%\n",
      "Epoch:99 => Loss: 5.19 | Accuracy: 47.21%\n"
     ]
    }
   ],
   "source": [
    "lr = 1e-4\n",
    "disc_opt = keras.optimizers.Adam(lr)\n",
    "tgt_opt = keras.optimizers.Adam(lr)\n",
    "\n",
    "for epoch in range(100):\n",
    "    for (sx, sy), (tx, ty) in zip(mnist_train_set, mnistm_train_set):\n",
    "        dl, tl = train_step(sx, tx)\n",
    "        dll.append(dl.numpy())\n",
    "        tll.append(tl.numpy())\n",
    "        \n",
    "    if (epoch + 1) % 10 == 0:\n",
    "        lr = lr / 2\n",
    "        disc_opt = keras.optimizers.Adam(lr)\n",
    "        tgt_opt = keras.optimizers.Adam(lr)\n",
    "\n",
    "        checkpoint = tf.train.Checkpoint(target_optimizer=tgt_opt,\n",
    "                                         discriminator_optimizer=disc_opt,\n",
    "                                         source_encoder=source_encoder,\n",
    "                                         target_encoder=target_encoder,\n",
    "                                         source_classifier=source_classifier,\n",
    "                                         ciritic=critic)\n",
    "        checkpoint.save(file_prefix = checkpoint_prefix)\n",
    "    \n",
    "    print(\"Epoch:\"+str(epoch), end=\" => \")\n",
    "    model_eval(mnistm_test_set, target_encoder)    "
   ]
  },
  {
   "cell_type": "code",
   "execution_count": 49,
   "metadata": {},
   "outputs": [
    {
     "data": {
      "text/plain": [
       "[<matplotlib.lines.Line2D at 0x7f3db897e5f8>]"
      ]
     },
     "execution_count": 49,
     "metadata": {},
     "output_type": "execute_result"
    },
    {
     "data": {
      "image/png": "[encoded data removed]",
      "text/plain": [
       "<Figure size 432x288 with 1 Axes>"
      ]
     },
     "metadata": {
      "needs_background": "light"
     },
     "output_type": "display_data"
    }
   ],
   "source": [
    "plt.plot(dll)\n",
    "plt.plot(tll)"
   ]
  },
  {
   "cell_type": "code",
   "execution_count": 50,
   "metadata": {},
   "outputs": [
    {
     "name": "stdout",
     "output_type": "stream",
     "text": [
      "Loss: 11.99 | Accuracy: 15.52%\n",
      "Loss: 5.293 | Accuracy: 46.31%\n"
     ]
    },
    {
     "data": {
      "text/plain": [
       "(5.293442, 0.46313334)"
      ]
     },
     "execution_count": 50,
     "metadata": {},
     "output_type": "execute_result"
    }
   ],
   "source": [
    "model_eval(mnistm_train_set, source_encoder)\n",
    "model_eval(mnistm_train_set, target_encoder)"
   ]
  },
  {
   "cell_type": "code",
   "execution_count": 51,
   "metadata": {},
   "outputs": [
    {
     "name": "stdout",
     "output_type": "stream",
     "text": [
      "Loss: 11.96 | Accuracy: 16.03%\n",
      "Loss: 5.19 | Accuracy: 47.21%\n"
     ]
    },
    {
     "data": {
      "text/plain": [
       "(5.1904664, 0.4721)"
      ]
     },
     "execution_count": 51,
     "metadata": {},
     "output_type": "execute_result"
    }
   ],
   "source": [
    "model_eval(mnistm_test_set, source_encoder)\n",
    "model_eval(mnistm_test_set, target_encoder)"
   ]
  },
  {
   "cell_type": "code",
   "execution_count": null,
   "metadata": {},
   "outputs": [],
   "source": []
  }
 ],
 "metadata": {
  "kernelspec": {
   "display_name": "Python 3",
   "language": "python",
   "name": "python3"
  },
  "language_info": {
   "codemirror_mode": {
    "name": "ipython",
    "version": 3
   },
   "file_extension": ".py",
   "mimetype": "text/x-python",
   "name": "python",
   "nbconvert_exporter": "python",
   "pygments_lexer": "ipython3",
   "version": "3.6.9"
  }
 },
 "nbformat": 4,
 "nbformat_minor": 2
}
