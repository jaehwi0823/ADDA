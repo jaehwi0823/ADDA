{
 "cells": [
  {
   "cell_type": "code",
   "execution_count": 1,
   "metadata": {},
   "outputs": [],
   "source": [
    "import tensorflow as tf\n",
    "import numpy as np\n",
    "import h5py\n",
    "import matplotlib.pyplot as plt\n",
    "from tensorflow import keras\n",
    "from tensorflow.keras import layers"
   ]
  },
  {
   "cell_type": "code",
   "execution_count": 2,
   "metadata": {},
   "outputs": [
    {
     "name": "stdout",
     "output_type": "stream",
     "text": [
      "(60000, 28, 28, 3)\n",
      "(10000, 28, 28, 3)\n"
     ]
    }
   ],
   "source": [
    "# Load MNIST\n",
    "(mnist_X, mnist_y), (mnist_X_, mnist_y_)= tf.keras.datasets.mnist.load_data()\n",
    "\n",
    "mnist_X = np.reshape(mnist_X,(60000, 28, 28, 1)) / 255\n",
    "mnist_X = np.tile(mnist_X, (1, 1, 1, 3))\n",
    "mnist_X = mnist_X.astype('float32')\n",
    "print(mnist_X.shape)\n",
    "\n",
    "mnist_X_ = np.reshape(mnist_X_,(10000, 28, 28, 1)) / 255\n",
    "mnist_X_ = np.tile(mnist_X_, (1, 1, 1, 3))\n",
    "mnist_X_ = mnist_X_.astype('float32')\n",
    "print(mnist_X_.shape)"
   ]
  },
  {
   "cell_type": "code",
   "execution_count": 3,
   "metadata": {},
   "outputs": [
    {
     "name": "stdout",
     "output_type": "stream",
     "text": [
      "(7291, 28, 28, 3)\n",
      "(2007, 28, 28, 3)\n"
     ]
    }
   ],
   "source": [
    "# Load USPS\n",
    "with h5py.File('usps.h5', 'r') as hf:\n",
    "    usps_train = hf.get('train')\n",
    "    usps_X = usps_train.get('data')[:]\n",
    "    usps_y = usps_train.get('target')[:]\n",
    "    usps_test = hf.get('test')\n",
    "    usps_X_ = usps_test.get('data')[:]\n",
    "    usps_y_ = usps_test.get('target')[:]\n",
    "\n",
    "padding = [[0, 0],\n",
    "           [6, 6],\n",
    "           [6, 6],\n",
    "           [0, 0]]\n",
    "\n",
    "usps_X = np.reshape(usps_X, (-1, 16, 16, 1))\n",
    "usps_X = np.tile(usps_X, (1,1,1,3))\n",
    "usps_X = tf.pad(usps_X, padding, 'CONSTANT').numpy()\n",
    "print(usps_X.shape)\n",
    "\n",
    "usps_X_ = np.reshape(usps_X_, (-1, 16, 16, 1))\n",
    "usps_X_ = np.tile(usps_X_, (1,1,1,3))\n",
    "usps_X_ = tf.pad(usps_X_, padding, 'CONSTANT').numpy()\n",
    "print(usps_X_.shape)"
   ]
  },
  {
   "cell_type": "code",
   "execution_count": 4,
   "metadata": {},
   "outputs": [
    {
     "name": "stdout",
     "output_type": "stream",
     "text": [
      "MNIST SAMPLE: 3\n",
      "USPS SAMPLE: 7\n"
     ]
    },
    {
     "data": {
      "image/png": "[encoded data removed]",
      "text/plain": [
       "<Figure size 432x288 with 2 Axes>"
      ]
     },
     "metadata": {
      "needs_background": "light"
     },
     "output_type": "display_data"
    },
    {
     "data": {
      "image/png": "[encoded data removed]",
      "text/plain": [
       "<Figure size 432x288 with 2 Axes>"
      ]
     },
     "metadata": {
      "needs_background": "light"
     },
     "output_type": "display_data"
    }
   ],
   "source": [
    "def show_img(img):\n",
    "    plt.figure()\n",
    "    plt.imshow(img)\n",
    "    plt.colorbar()\n",
    "\n",
    "print(\"MNIST SAMPLE: {}\".format(mnist_y[10]))\n",
    "show_img(mnist_X[10])\n",
    "print(\"USPS SAMPLE: {}\".format(usps_y[10]))\n",
    "show_img(usps_X[10])"
   ]
  },
  {
   "cell_type": "markdown",
   "metadata": {},
   "source": [
    "![F2](\"./Figure2.png\")"
   ]
  },
  {
   "cell_type": "markdown",
   "metadata": {},
   "source": [
    "### Dataset Details\n",
    "\n",
    " - For adaptation between MNIST and USPS, we follow the training protocol established in [21], __sampling 2000 images from MNIST and 1800 from USPS.__"
   ]
  },
  {
   "cell_type": "markdown",
   "metadata": {},
   "source": [
    "### Model Details\n",
    "\n",
    " - our adversarial discriminator consists of 3 fully connected layers: two layers with 500 hidden units followed by the final discriminator output\n",
    " - Each of the 500-unit layers uses a ReLU activation function"
   ]
  },
  {
   "cell_type": "code",
   "execution_count": 5,
   "metadata": {},
   "outputs": [],
   "source": [
    "def LeNetEncoder():\n",
    "    model = tf.keras.Sequential()\n",
    "    \n",
    "    model.add(layers.Conv2D(20, (5, 5),\n",
    "                        activation='relu',\n",
    "                        input_shape=(28, 28, 3)))\n",
    "    model.add(layers.MaxPooling2D((2, 2)))\n",
    "    \n",
    "    model.add(layers.Conv2D(50, (5, 5),\n",
    "                        activation='relu',\n",
    "                        input_shape=(28, 28, 3)))\n",
    "    model.add(layers.MaxPooling2D((2, 2)))\n",
    "    model.add(layers.Flatten())\n",
    "    model.add(layers.Dropout(0.1))\n",
    "    \n",
    "    model.add(layers.Dense(500,\n",
    "                           activation='relu'))\n",
    "    \n",
    "    return model"
   ]
  },
  {
   "cell_type": "code",
   "execution_count": 6,
   "metadata": {},
   "outputs": [],
   "source": [
    "def LeNetClassifier():\n",
    "    model = tf.keras.Sequential()\n",
    "    model.add(layers.Dropout(0.1,\n",
    "                             input_shape=(500,)))\n",
    "    model.add(layers.Dense(10,\n",
    "                           activation='softmax'))\n",
    "    \n",
    "    return model"
   ]
  },
  {
   "cell_type": "code",
   "execution_count": 91,
   "metadata": {},
   "outputs": [],
   "source": [
    "def Critics():\n",
    "    model = tf.keras.Sequential()\n",
    "    model.add(layers.Dense(500,\n",
    "                           input_shape=(500,),\n",
    "                           activation='relu'))\n",
    "    model.add(layers.Dense(500,\n",
    "                           activation='relu'))\n",
    "    model.add(layers.Dense(2,\n",
    "                           activation='softmax'))\n",
    "    \n",
    "    return model"
   ]
  },
  {
   "cell_type": "code",
   "execution_count": 8,
   "metadata": {},
   "outputs": [],
   "source": [
    "source_encoder = LeNetEncoder()\n",
    "target_encoder = LeNetEncoder()\n",
    "source_classifier = LeNetClassifier()"
   ]
  },
  {
   "cell_type": "code",
   "execution_count": 9,
   "metadata": {},
   "outputs": [],
   "source": [
    "trainsets = tf.data.Dataset.from_tensor_slices((mnist_X, mnist_y)).shuffle(buffer_size=mnist_X.shape[0]).batch(64)\n",
    "testsets = tf.data.Dataset.from_tensor_slices((mnist_X_, mnist_y_)).shuffle(buffer_size=mnist_X_.shape[0]).batch(64)"
   ]
  },
  {
   "cell_type": "code",
   "execution_count": 10,
   "metadata": {},
   "outputs": [],
   "source": [
    "# pre-train (1) source_encoder, (2) source_classifier\n",
    "@tf.function\n",
    "def pretrain_step(X, y):\n",
    "    with tf.GradientTape() as tape:\n",
    "        embedding = source_encoder(X)\n",
    "        pred = source_classifier(embedding)\n",
    "        loss_value = loss(y, pred)\n",
    "        \n",
    "    tvars = source_encoder.trainable_variables + source_classifier.trainable_variables\n",
    "    grads = tape.gradient(loss_value, tvars)\n",
    "    opt.apply_gradients(zip(grads, tvars))\n",
    "    \n",
    "    return pred, loss_value"
   ]
  },
  {
   "cell_type": "code",
   "execution_count": 15,
   "metadata": {},
   "outputs": [],
   "source": [
    "loss = keras.losses.SparseCategoricalCrossentropy()\n",
    "opt = tf.keras.optimizers.Adam(learning_rate=0.01)"
   ]
  },
  {
   "cell_type": "code",
   "execution_count": 17,
   "metadata": {},
   "outputs": [
    {
     "name": "stdout",
     "output_type": "stream",
     "text": [
      "Step:100, Loss:0.007728, Accuracy:1.0\n",
      "Step:200, Loss:0.08876, Accuracy:0.9688\n",
      "Step:300, Loss:0.08516, Accuracy:0.9688\n",
      "Step:400, Loss:0.04499, Accuracy:0.9844\n",
      "Step:500, Loss:0.03746, Accuracy:0.9688\n",
      "Step:600, Loss:0.083, Accuracy:0.9688\n",
      "Step:700, Loss:0.1505, Accuracy:0.9531\n",
      "Step:800, Loss:0.1606, Accuracy:0.9531\n",
      "Step:900, Loss:0.004078, Accuracy:1.0\n",
      "Step:1000, Loss:0.06235, Accuracy:0.9688\n",
      "Step:1100, Loss:0.004179, Accuracy:1.0\n",
      "Step:1200, Loss:0.09427, Accuracy:0.9688\n",
      "Step:1300, Loss:0.0185, Accuracy:1.0\n",
      "Step:1400, Loss:0.09841, Accuracy:0.9844\n",
      "Step:1500, Loss:0.1463, Accuracy:0.9688\n",
      "Step:1600, Loss:0.04286, Accuracy:0.9688\n",
      "Step:1700, Loss:0.06443, Accuracy:0.9844\n",
      "Step:1800, Loss:0.127, Accuracy:0.9531\n",
      "Step:1900, Loss:0.1083, Accuracy:0.9844\n",
      "Step:2000, Loss:0.01185, Accuracy:1.0\n",
      "Step:2100, Loss:0.008306, Accuracy:1.0\n",
      "Step:2200, Loss:0.02644, Accuracy:0.9844\n",
      "Step:2300, Loss:0.1077, Accuracy:0.9531\n",
      "Step:2400, Loss:0.03503, Accuracy:0.9844\n",
      "Step:2500, Loss:0.1541, Accuracy:0.9531\n",
      "Step:2600, Loss:0.1302, Accuracy:0.9688\n",
      "Step:2700, Loss:0.1226, Accuracy:0.9688\n",
      "Step:2800, Loss:0.05684, Accuracy:0.9688\n",
      "Step:2900, Loss:0.01611, Accuracy:1.0\n",
      "Step:3000, Loss:0.2967, Accuracy:0.9531\n",
      "Step:3100, Loss:0.6822, Accuracy:0.8594\n",
      "Step:3200, Loss:0.1985, Accuracy:0.9531\n",
      "Step:3300, Loss:0.03115, Accuracy:1.0\n",
      "Step:3400, Loss:0.2503, Accuracy:0.9688\n",
      "Step:3500, Loss:0.02485, Accuracy:0.9844\n",
      "Step:3600, Loss:0.01548, Accuracy:1.0\n",
      "Step:3700, Loss:0.03188, Accuracy:0.9844\n",
      "Step:3800, Loss:0.1927, Accuracy:0.9531\n",
      "Step:3900, Loss:0.1028, Accuracy:0.9844\n",
      "Step:4000, Loss:0.1796, Accuracy:0.9844\n",
      "Step:4100, Loss:0.0003694, Accuracy:1.0\n",
      "Step:4200, Loss:0.07305, Accuracy:0.9688\n",
      "Step:4300, Loss:0.01383, Accuracy:1.0\n",
      "Step:4400, Loss:0.01355, Accuracy:1.0\n",
      "Step:4500, Loss:0.09791, Accuracy:0.9844\n",
      "Step:4600, Loss:0.1272, Accuracy:0.9688\n"
     ]
    }
   ],
   "source": [
    "for _ in range(5):\n",
    "    for X, y in trainsets:\n",
    "        pred, lv = pretrain_step(X, y)\n",
    "        pred_idx = tf.argmax(pred, axis=1)\n",
    "\n",
    "        if opt.iterations.numpy() % 100 == 0:\n",
    "            print(\"Step:{}, Loss:{:.4}, Accuracy:{:.4}\".format(opt.iterations.numpy(),\n",
    "                                               loss(y, pred),\n",
    "                                               sum(np.equal(pred_idx.numpy(), y))/len(y)))"
   ]
  },
  {
   "cell_type": "code",
   "execution_count": 18,
   "metadata": {},
   "outputs": [],
   "source": [
    "def model_eval(model, X, y, metric_loss, metric_acc):\n",
    "    ebd = model(X)\n",
    "    prob = source_classifier(ebd)\n",
    "    lv = loss(y, prob)\n",
    "    \n",
    "    metric_loss(lv)\n",
    "    metric_acc(y, prob)"
   ]
  },
  {
   "cell_type": "code",
   "execution_count": 48,
   "metadata": {},
   "outputs": [
    {
     "name": "stdout",
     "output_type": "stream",
     "text": [
      "tf.Tensor(0.09228537, shape=(), dtype=float32)\n",
      "tf.Tensor(0.9804, shape=(), dtype=float32)\n"
     ]
    }
   ],
   "source": [
    "loss_avg = keras.metrics.Mean()\n",
    "accuracy = keras.metrics.SparseCategoricalAccuracy()\n",
    "for X, y in testsets:\n",
    "    model_eval(source_encoder, X, y, loss_avg, accuracy)\n",
    "print(loss_avg.result())\n",
    "print(accuracy.result())"
   ]
  },
  {
   "cell_type": "code",
   "execution_count": 20,
   "metadata": {},
   "outputs": [
    {
     "name": "stderr",
     "output_type": "stream",
     "text": [
      "W1205 23:40:55.309463 140179095869184 hdf5_format.py:224] No training configuration found in save file: the model was *not* compiled. Compile it manually.\n"
     ]
    }
   ],
   "source": [
    "source_encoder.save('pre_weights.h5')\n",
    "target_encoder = keras.models.load_model('pre_weights.h5')\n",
    "# source_encoder = keras.models.load_model('pre_weights.h5')"
   ]
  },
  {
   "cell_type": "code",
   "execution_count": 49,
   "metadata": {},
   "outputs": [
    {
     "name": "stdout",
     "output_type": "stream",
     "text": [
      "tf.Tensor(0.09228537, shape=(), dtype=float32)\n",
      "tf.Tensor(0.9804, shape=(), dtype=float32)\n"
     ]
    }
   ],
   "source": [
    "loss_avg = keras.metrics.Mean()\n",
    "accuracy = keras.metrics.SparseCategoricalAccuracy()\n",
    "for X, y in testsets:\n",
    "    model_eval(target_encoder, X, y, loss_avg, accuracy)\n",
    "print(loss_avg.result())\n",
    "print(accuracy.result())"
   ]
  },
  {
   "cell_type": "code",
   "execution_count": 109,
   "metadata": {},
   "outputs": [],
   "source": [
    "critic = Critics()\n",
    "target_optimizer = tf.keras.optimizers.Adam(1e-4)\n",
    "discriminator_optimizer = tf.keras.optimizers.Adam(1e-4)\n",
    "cce = tf.keras.losses.SparseCategoricalCrossentropy()\n",
    "cross_entropy = tf.keras.losses.BinaryCrossentropy()"
   ]
  },
  {
   "cell_type": "code",
   "execution_count": 120,
   "metadata": {},
   "outputs": [],
   "source": [
    "@tf.function\n",
    "def train_others(img_src, img_tgt):\n",
    "    # discriminator\n",
    "    with tf.GradientTape() as disc_tape:\n",
    "        source_ebd = source_encoder(img_src, training=False)\n",
    "        target_ebd = target_encoder(img_tgt, training=True)\n",
    "        concat_ebd = tf.concat([source_ebd, target_ebd], 0)\n",
    "\n",
    "        concat_pred = critic(concat_ebd, training=True)\n",
    "        \n",
    "        source_label = tf.ones_like(source_ebd[:, 0])\n",
    "        target_label = tf.zeros_like(target_ebd[:, 0])\n",
    "        concat_label = tf.concat([source_label, target_label], 0)\n",
    "#         tf.reshape(concat_label, (-1,1))\n",
    "        \n",
    "        disc_loss = cce(concat_label, concat_pred)\n",
    "\n",
    "    disc_grads = disc_tape.gradient(disc_loss, critic.trainable_variables)\n",
    "    discriminator_optimizer.apply_gradients(zip(disc_grads, critic.trainable_variables))\n",
    "    \n",
    "    with tf.GradientTape() as tgt_tape:\n",
    "        target_ebd = target_encoder(img_tgt, training=True)\n",
    "        target_pred = critic(target_ebd, training=False)\n",
    "        target_label = tf.ones_like(target_pred[:, 0])\n",
    "#         tf.reshape(target_label, (-1,1))\n",
    "        \n",
    "        target_loss = cce(target_label, target_pred)\n",
    "        \n",
    "    target_grads = tgt_tape.gradient(target_loss, target_encoder.trainable_variables)\n",
    "    target_optimizer.apply_gradients(zip(target_grads, target_encoder.trainable_variables))\n",
    "    \n",
    "    return disc_loss, target_loss"
   ]
  },
  {
   "cell_type": "code",
   "execution_count": 131,
   "metadata": {},
   "outputs": [],
   "source": [
    "source_sets = tf.data.Dataset.from_tensor_slices((mnist_X, mnist_y)).shuffle(buffer_size=mnist_X.shape[0]).batch(64)\n",
    "target_sets = tf.data.Dataset.from_tensor_slices((usps_X, usps_y)).shuffle(buffer_size=usps_X.shape[0]).batch(64)\n",
    "test_sets = tf.data.Dataset.from_tensor_slices((usps_X_, usps_y_)).shuffle(buffer_size=usps_X_.shape[0]).batch(64)"
   ]
  },
  {
   "cell_type": "code",
   "execution_count": 133,
   "metadata": {},
   "outputs": [
    {
     "name": "stdout",
     "output_type": "stream",
     "text": [
      "Epoch:0 => tf.Tensor(0.46202245, shape=(), dtype=float32) | tf.Tensor(0.88540107, shape=(), dtype=float32)\n",
      "Epoch:1 => tf.Tensor(0.4638586, shape=(), dtype=float32) | tf.Tensor(0.8888889, shape=(), dtype=float32)\n",
      "Epoch:2 => tf.Tensor(0.46443993, shape=(), dtype=float32) | tf.Tensor(0.8953662, shape=(), dtype=float32)\n",
      "Epoch:3 => tf.Tensor(0.47168225, shape=(), dtype=float32) | tf.Tensor(0.9013453, shape=(), dtype=float32)\n",
      "Epoch:4 => tf.Tensor(0.48840812, shape=(), dtype=float32) | tf.Tensor(0.9003488, shape=(), dtype=float32)\n",
      "Epoch:5 => tf.Tensor(0.49549234, shape=(), dtype=float32) | tf.Tensor(0.900847, shape=(), dtype=float32)\n",
      "Epoch:6 => tf.Tensor(0.492898, shape=(), dtype=float32) | tf.Tensor(0.90632784, shape=(), dtype=float32)\n",
      "Epoch:7 => tf.Tensor(0.49202988, shape=(), dtype=float32) | tf.Tensor(0.90881914, shape=(), dtype=float32)\n",
      "Epoch:8 => tf.Tensor(0.48391986, shape=(), dtype=float32) | tf.Tensor(0.90632784, shape=(), dtype=float32)\n",
      "Epoch:9 => tf.Tensor(0.4841591, shape=(), dtype=float32) | tf.Tensor(0.90433484, shape=(), dtype=float32)\n",
      "Epoch:10 => tf.Tensor(0.47980618, shape=(), dtype=float32) | tf.Tensor(0.9053313, shape=(), dtype=float32)\n",
      "Epoch:11 => tf.Tensor(0.48160627, shape=(), dtype=float32) | tf.Tensor(0.90184355, shape=(), dtype=float32)\n",
      "Epoch:12 => tf.Tensor(0.4887821, shape=(), dtype=float32) | tf.Tensor(0.90184355, shape=(), dtype=float32)\n",
      "Epoch:13 => tf.Tensor(0.4917357, shape=(), dtype=float32) | tf.Tensor(0.90184355, shape=(), dtype=float32)\n",
      "Epoch:14 => tf.Tensor(0.4966211, shape=(), dtype=float32) | tf.Tensor(0.9003488, shape=(), dtype=float32)\n",
      "Epoch:15 => tf.Tensor(0.49813655, shape=(), dtype=float32) | tf.Tensor(0.9003488, shape=(), dtype=float32)\n",
      "Epoch:16 => tf.Tensor(0.5018772, shape=(), dtype=float32) | tf.Tensor(0.9023418, shape=(), dtype=float32)\n",
      "Epoch:17 => tf.Tensor(0.5085229, shape=(), dtype=float32) | tf.Tensor(0.9028401, shape=(), dtype=float32)\n",
      "Epoch:18 => tf.Tensor(0.51004845, shape=(), dtype=float32) | tf.Tensor(0.9048331, shape=(), dtype=float32)\n",
      "Epoch:19 => tf.Tensor(0.51144904, shape=(), dtype=float32) | tf.Tensor(0.90433484, shape=(), dtype=float32)\n",
      "Epoch:20 => tf.Tensor(0.50878155, shape=(), dtype=float32) | tf.Tensor(0.9028401, shape=(), dtype=float32)\n",
      "Epoch:21 => tf.Tensor(0.51563096, shape=(), dtype=float32) | tf.Tensor(0.9023418, shape=(), dtype=float32)\n",
      "Epoch:22 => tf.Tensor(0.51319206, shape=(), dtype=float32) | tf.Tensor(0.90433484, shape=(), dtype=float32)\n",
      "Epoch:23 => tf.Tensor(0.50655746, shape=(), dtype=float32) | tf.Tensor(0.9028401, shape=(), dtype=float32)\n",
      "Epoch:24 => tf.Tensor(0.51064914, shape=(), dtype=float32) | tf.Tensor(0.9033383, shape=(), dtype=float32)\n",
      "Epoch:25 => tf.Tensor(0.5109472, shape=(), dtype=float32) | tf.Tensor(0.9023418, shape=(), dtype=float32)\n",
      "Epoch:26 => tf.Tensor(0.5111001, shape=(), dtype=float32) | tf.Tensor(0.90184355, shape=(), dtype=float32)\n",
      "Epoch:27 => tf.Tensor(0.508747, shape=(), dtype=float32) | tf.Tensor(0.90184355, shape=(), dtype=float32)\n",
      "Epoch:28 => tf.Tensor(0.5115841, shape=(), dtype=float32) | tf.Tensor(0.90184355, shape=(), dtype=float32)\n",
      "Epoch:29 => tf.Tensor(0.51215583, shape=(), dtype=float32) | tf.Tensor(0.9013453, shape=(), dtype=float32)\n",
      "Epoch:30 => tf.Tensor(0.51118433, shape=(), dtype=float32) | tf.Tensor(0.9028401, shape=(), dtype=float32)\n",
      "Epoch:31 => tf.Tensor(0.5123556, shape=(), dtype=float32) | tf.Tensor(0.90184355, shape=(), dtype=float32)\n",
      "Epoch:32 => tf.Tensor(0.5136692, shape=(), dtype=float32) | tf.Tensor(0.9023418, shape=(), dtype=float32)\n",
      "Epoch:33 => tf.Tensor(0.5133859, shape=(), dtype=float32) | tf.Tensor(0.90184355, shape=(), dtype=float32)\n",
      "Epoch:34 => tf.Tensor(0.5117958, shape=(), dtype=float32) | tf.Tensor(0.9013453, shape=(), dtype=float32)\n",
      "Epoch:35 => tf.Tensor(0.51077396, shape=(), dtype=float32) | tf.Tensor(0.90383655, shape=(), dtype=float32)\n",
      "Epoch:36 => tf.Tensor(0.50915235, shape=(), dtype=float32) | tf.Tensor(0.90383655, shape=(), dtype=float32)\n",
      "Epoch:37 => tf.Tensor(0.50613296, shape=(), dtype=float32) | tf.Tensor(0.9033383, shape=(), dtype=float32)\n",
      "Epoch:38 => tf.Tensor(0.50849414, shape=(), dtype=float32) | tf.Tensor(0.9033383, shape=(), dtype=float32)\n",
      "Epoch:39 => tf.Tensor(0.51048225, shape=(), dtype=float32) | tf.Tensor(0.9033383, shape=(), dtype=float32)\n",
      "Epoch:40 => tf.Tensor(0.50752366, shape=(), dtype=float32) | tf.Tensor(0.90433484, shape=(), dtype=float32)\n",
      "Epoch:41 => tf.Tensor(0.50386953, shape=(), dtype=float32) | tf.Tensor(0.90433484, shape=(), dtype=float32)\n",
      "Epoch:42 => tf.Tensor(0.5044654, shape=(), dtype=float32) | tf.Tensor(0.9028401, shape=(), dtype=float32)\n",
      "Epoch:43 => tf.Tensor(0.5032938, shape=(), dtype=float32) | tf.Tensor(0.9048331, shape=(), dtype=float32)\n",
      "Epoch:44 => tf.Tensor(0.4997115, shape=(), dtype=float32) | tf.Tensor(0.9053313, shape=(), dtype=float32)\n",
      "Epoch:45 => tf.Tensor(0.49698114, shape=(), dtype=float32) | tf.Tensor(0.9068261, shape=(), dtype=float32)\n",
      "Epoch:46 => tf.Tensor(0.4975223, shape=(), dtype=float32) | tf.Tensor(0.9053313, shape=(), dtype=float32)\n",
      "Epoch:47 => tf.Tensor(0.49900076, shape=(), dtype=float32) | tf.Tensor(0.9058296, shape=(), dtype=float32)\n",
      "Epoch:48 => tf.Tensor(0.49557316, shape=(), dtype=float32) | tf.Tensor(0.9058296, shape=(), dtype=float32)\n",
      "Epoch:49 => tf.Tensor(0.4977763, shape=(), dtype=float32) | tf.Tensor(0.9048331, shape=(), dtype=float32)\n"
     ]
    }
   ],
   "source": [
    "dll = []\n",
    "tll = []\n",
    "for epoch in range(50):\n",
    "    for (mx, my), (tx, ty) in zip(source_sets, target_sets):\n",
    "        dl, tl = train_others(mx, tx)\n",
    "        dll.append(dl.numpy())\n",
    "        tll.append(tl.numpy())\n",
    "        \n",
    "    loss_avg = keras.metrics.Mean()\n",
    "    accuracy = keras.metrics.SparseCategoricalAccuracy()\n",
    "    for X, y in test_sets:\n",
    "        model_eval(target_encoder, X, y, loss_avg, accuracy)\n",
    "    print(\"Epoch:\"+str(epoch), end=\" => \")\n",
    "    print(loss_avg.result() , end=\" | \")\n",
    "    print(accuracy.result())\n",
    "    "
   ]
  },
  {
   "cell_type": "code",
   "execution_count": 134,
   "metadata": {},
   "outputs": [
    {
     "data": {
      "text/plain": [
       "[<matplotlib.lines.Line2D at 0x7f7cf3118630>]"
      ]
     },
     "execution_count": 134,
     "metadata": {},
     "output_type": "execute_result"
    },
    {
     "data": {
      "image/png": "[encoded data removed]",
      "text/plain": [
       "<Figure size 432x288 with 1 Axes>"
      ]
     },
     "metadata": {
      "needs_background": "light"
     },
     "output_type": "display_data"
    }
   ],
   "source": [
    "plt.plot(dll)\n",
    "plt.plot(tll)"
   ]
  },
  {
   "cell_type": "code",
   "execution_count": null,
   "metadata": {},
   "outputs": [],
   "source": []
  }
 ],
 "metadata": {
  "kernelspec": {
   "display_name": "Python 3",
   "language": "python",
   "name": "python3"
  },
  "language_info": {
   "codemirror_mode": {
    "name": "ipython",
    "version": 3
   },
   "file_extension": ".py",
   "mimetype": "text/x-python",
   "name": "python",
   "nbconvert_exporter": "python",
   "pygments_lexer": "ipython3",
   "version": "3.6.9"
  }
 },
 "nbformat": 4,
 "nbformat_minor": 2
}
