{
 "cells": [
  {
   "cell_type": "code",
   "execution_count": 1,
   "metadata": {},
   "outputs": [
    {
     "data": {
      "text/plain": [
       "'/device:GPU:0'"
      ]
     },
     "execution_count": 1,
     "metadata": {},
     "output_type": "execute_result"
    }
   ],
   "source": [
    "import tensorflow as tf\n",
    "tf.test.gpu_device_name()"
   ]
  },
  {
   "cell_type": "code",
   "execution_count": 2,
   "metadata": {},
   "outputs": [],
   "source": [
    "import tensorflow as tf\n",
    "import numpy as np\n",
    "import h5py\n",
    "import matplotlib.pyplot as plt\n",
    "import pickle as pkl\n",
    "import os\n",
    "from tensorflow import keras\n",
    "from tensorflow.keras import layers"
   ]
  },
  {
   "cell_type": "code",
   "execution_count": 3,
   "metadata": {},
   "outputs": [
    {
     "name": "stdout",
     "output_type": "stream",
     "text": [
      "(60000, 28, 28, 3)\n",
      "(10000, 28, 28, 3)\n"
     ]
    }
   ],
   "source": [
    "# Load MNIST\n",
    "(mnist_X, mnist_y), (mnist_X_, mnist_y_)= tf.keras.datasets.mnist.load_data()\n",
    "\n",
    "mnist_X = np.reshape(mnist_X,(60000, 28, 28, 1)) / 255\n",
    "mnist_X = np.tile(mnist_X, (1, 1, 1, 3))\n",
    "mnist_X = mnist_X.astype('float32')\n",
    "print(mnist_X.shape)\n",
    "\n",
    "mnist_X_ = np.reshape(mnist_X_,(10000, 28, 28, 1)) / 255\n",
    "mnist_X_ = np.tile(mnist_X_, (1, 1, 1, 3))\n",
    "mnist_X_ = mnist_X_.astype('float32')\n",
    "print(mnist_X_.shape)"
   ]
  },
  {
   "cell_type": "code",
   "execution_count": 4,
   "metadata": {},
   "outputs": [
    {
     "name": "stdout",
     "output_type": "stream",
     "text": [
      "(7291, 28, 28, 3)\n",
      "(2007, 28, 28, 3)\n"
     ]
    }
   ],
   "source": [
    "# Load USPS\n",
    "with h5py.File('usps.h5', 'r') as hf:\n",
    "    usps_train = hf.get('train')\n",
    "    usps_X = usps_train.get('data')[:]\n",
    "    usps_y = usps_train.get('target')[:]\n",
    "    usps_test = hf.get('test')\n",
    "    usps_X_ = usps_test.get('data')[:]\n",
    "    usps_y_ = usps_test.get('target')[:]\n",
    "\n",
    "padding = [[0, 0],\n",
    "           [6, 6],\n",
    "           [6, 6],\n",
    "           [0, 0]]\n",
    "\n",
    "usps_X = np.reshape(usps_X, (-1, 16, 16, 1))\n",
    "usps_X = np.tile(usps_X, (1,1,1,3))\n",
    "usps_X = tf.pad(usps_X, padding, 'CONSTANT').numpy()\n",
    "print(usps_X.shape)\n",
    "\n",
    "usps_X_ = np.reshape(usps_X_, (-1, 16, 16, 1))\n",
    "usps_X_ = np.tile(usps_X_, (1,1,1,3))\n",
    "usps_X_ = tf.pad(usps_X_, padding, 'CONSTANT').numpy()\n",
    "print(usps_X_.shape)"
   ]
  },
  {
   "cell_type": "code",
   "execution_count": 5,
   "metadata": {},
   "outputs": [],
   "source": [
    "# Load MNIST-M\n",
    "mnistm = pkl.load(open('mnistm.pkl', 'rb'))\n",
    "mnistm_X = mnistm['train'] / 255\n",
    "mnistm_X = mnistm_X.astype('float32')\n",
    "mnistm_X_ = mnistm['test'] / 255\n",
    "mnistm_X_ = mnistm_X_.astype('float32')"
   ]
  },
  {
   "cell_type": "code",
   "execution_count": 6,
   "metadata": {},
   "outputs": [
    {
     "name": "stdout",
     "output_type": "stream",
     "text": [
      "MNIST SAMPLE: 3\n",
      "USPS SAMPLE: 7\n",
      "USPS SAMPLE: 3\n"
     ]
    },
    {
     "data": {
      "image/png": "[encoded data removed]",
      "text/plain": [
       "<Figure size 432x288 with 2 Axes>"
      ]
     },
     "metadata": {
      "needs_background": "light"
     },
     "output_type": "display_data"
    },
    {
     "data": {
      "image/png": "[encoded data removed]",
      "text/plain": [
       "<Figure size 432x288 with 2 Axes>"
      ]
     },
     "metadata": {
      "needs_background": "light"
     },
     "output_type": "display_data"
    },
    {
     "data": {
      "image/png": "[encoded data removed]",
      "text/plain": [
       "<Figure size 432x288 with 2 Axes>"
      ]
     },
     "metadata": {
      "needs_background": "light"
     },
     "output_type": "display_data"
    }
   ],
   "source": [
    "def show_img(img):\n",
    "    plt.figure()\n",
    "    plt.imshow(img)\n",
    "    plt.colorbar()\n",
    "\n",
    "print(\"MNIST SAMPLE: {}\".format(mnist_y[10]))\n",
    "show_img(mnist_X[10])\n",
    "print(\"USPS SAMPLE: {}\".format(usps_y[10]))\n",
    "show_img(usps_X[10])\n",
    "print(\"USPS SAMPLE: {}\".format(mnist_y[10]))\n",
    "show_img(mnistm_X[10])"
   ]
  },
  {
   "cell_type": "markdown",
   "metadata": {},
   "source": [
    "### Dataset Details\n",
    "\n",
    " - For adaptation between MNIST and USPS, we follow the training protocol established in [21], __sampling 2000 images from MNIST and 1800 from USPS.__"
   ]
  },
  {
   "cell_type": "markdown",
   "metadata": {},
   "source": [
    "### Model Details\n",
    "\n",
    " - our adversarial discriminator consists of 3 fully connected layers: two layers with 500 hidden units followed by the final discriminator output\n",
    " - Each of the 500-unit layers uses a ReLU activation function"
   ]
  },
  {
   "cell_type": "code",
   "execution_count": 7,
   "metadata": {},
   "outputs": [],
   "source": [
    "def LeNetEncoder():\n",
    "    model = tf.keras.Sequential()\n",
    "    \n",
    "    model.add(layers.Conv2D(20, (5, 5),\n",
    "                        activation='relu',\n",
    "                        input_shape=(28, 28, 3)))\n",
    "    model.add(layers.MaxPooling2D((2, 2)))\n",
    "    \n",
    "    model.add(layers.Conv2D(50, (5, 5),\n",
    "                        activation='relu',\n",
    "                        input_shape=(28, 28, 3)))\n",
    "    model.add(layers.MaxPooling2D((2, 2)))\n",
    "    model.add(layers.Flatten())\n",
    "    model.add(layers.Dropout(0.1))\n",
    "    \n",
    "    model.add(layers.Dense(500,\n",
    "                           activation='relu'))\n",
    "    \n",
    "    return model"
   ]
  },
  {
   "cell_type": "code",
   "execution_count": 8,
   "metadata": {},
   "outputs": [],
   "source": [
    "def LeNetClassifier():\n",
    "    model = tf.keras.Sequential()\n",
    "    model.add(layers.Dropout(0.1,\n",
    "                             input_shape=(500,)))\n",
    "    model.add(layers.Dense(10,\n",
    "                           activation='softmax'))\n",
    "    \n",
    "    return model"
   ]
  },
  {
   "cell_type": "code",
   "execution_count": 9,
   "metadata": {},
   "outputs": [],
   "source": [
    "def Critics():\n",
    "    model = tf.keras.Sequential()\n",
    "    model.add(layers.Dense(500,\n",
    "                           input_shape=(500,),\n",
    "                           activation='relu'))\n",
    "    model.add(layers.Dense(500,\n",
    "                           activation='relu'))\n",
    "    model.add(layers.Dense(2,\n",
    "                           activation='softmax'))\n",
    "    \n",
    "    return model"
   ]
  },
  {
   "cell_type": "code",
   "execution_count": 10,
   "metadata": {},
   "outputs": [],
   "source": [
    "source_encoder = LeNetEncoder()\n",
    "target_encoder = LeNetEncoder()\n",
    "source_classifier = LeNetClassifier()"
   ]
  },
  {
   "cell_type": "code",
   "execution_count": 11,
   "metadata": {},
   "outputs": [],
   "source": [
    "mnist_train_set = tf.data.Dataset.from_tensor_slices((mnist_X, mnist_y)).shuffle(buffer_size=mnist_X.shape[0]).batch(64)\n",
    "mnist_test_set = tf.data.Dataset.from_tensor_slices((mnist_X_, mnist_y_)).shuffle(buffer_size=mnist_X_.shape[0]).batch(64)\n",
    "usps_train_set = tf.data.Dataset.from_tensor_slices((usps_X, usps_y)).shuffle(buffer_size=usps_X.shape[0]).batch(64)\n",
    "usps_test_set = tf.data.Dataset.from_tensor_slices((usps_X_, usps_y_)).shuffle(buffer_size=usps_X_.shape[0]).batch(64)\n",
    "mnistm_train_set = tf.data.Dataset.from_tensor_slices((mnistm_X, mnist_y)).shuffle(buffer_size=mnist_X.shape[0]).batch(64)\n",
    "mnistm_test_set = tf.data.Dataset.from_tensor_slices((mnistm_X_, mnist_y_)).shuffle(buffer_size=mnist_X_.shape[0]).batch(64)"
   ]
  },
  {
   "cell_type": "code",
   "execution_count": 12,
   "metadata": {},
   "outputs": [],
   "source": [
    "opt = keras.optimizers.Adam()\n",
    "# pre-train (1) source_encoder, (2) source_classifier\n",
    "@tf.function\n",
    "def pretrain_step(X, y):\n",
    "    with tf.GradientTape() as tape:\n",
    "        embedding = source_encoder(X)\n",
    "        pred = source_classifier(embedding)\n",
    "        loss_value = loss(y, pred)\n",
    "        \n",
    "    tvars = source_encoder.trainable_variables + source_classifier.trainable_variables\n",
    "    grads = tape.gradient(loss_value, tvars)\n",
    "    opt.apply_gradients(zip(grads, tvars))\n",
    "    \n",
    "    return pred, loss_value"
   ]
  },
  {
   "cell_type": "code",
   "execution_count": 13,
   "metadata": {},
   "outputs": [],
   "source": [
    "loss = keras.losses.SparseCategoricalCrossentropy()"
   ]
  },
  {
   "cell_type": "code",
   "execution_count": 14,
   "metadata": {},
   "outputs": [],
   "source": [
    "def model_eval(mydata, encoder, verbose=True):\n",
    "    avg = keras.metrics.Mean()\n",
    "    accuracy = keras.metrics.SparseCategoricalAccuracy()\n",
    "    for X, y in mydata:\n",
    "        # inference\n",
    "        ebd = encoder(X)\n",
    "        prob = source_classifier(ebd)\n",
    "        lv = loss(y, prob)\n",
    "\n",
    "        # results\n",
    "        avg(lv)\n",
    "        accuracy(y, prob)\n",
    "    \n",
    "    loss_v = avg.result().numpy()\n",
    "    accuracy_v = accuracy.result().numpy()\n",
    "    \n",
    "    if verbose:\n",
    "        print(\"Loss: {:.4}\".format(loss_v), end=\" | \")\n",
    "        print(\"Accuracy: {:.2%}\".format(accuracy_v))\n",
    "    \n",
    "    return loss_v, accuracy_v"
   ]
  },
  {
   "cell_type": "code",
   "execution_count": 17,
   "metadata": {},
   "outputs": [],
   "source": [
    "def pre_train(mydata, epochs, lr):\n",
    "    learning_rate = lr\n",
    "    \n",
    "    for epoch in range(epochs):\n",
    "        for X, y in mydata:\n",
    "            pred, lv = pretrain_step(X, y)\n",
    "            pred_idx = tf.argmax(pred, axis=1)\n",
    "            \n",
    "            learning_rate = learning_rate / (1 + epoch/10)\n",
    "            opt = tf.keras.optimizers.Adam(learning_rate=0.01)\n",
    "\n",
    "        l, a = model_eval(mnist_test_set, source_encoder, False)\n",
    "        print(\"Epoch:{}, Loss:{:.4}, Accuracy:{:.4}\"\n",
    "              .format(epoch+1,l,a))"
   ]
  },
  {
   "cell_type": "code",
   "execution_count": 18,
   "metadata": {},
   "outputs": [
    {
     "name": "stdout",
     "output_type": "stream",
     "text": [
      "Epoch:0, Loss:0.02394, Accuracy:0.9932\n",
      "Epoch:1, Loss:0.03346, Accuracy:0.9915\n",
      "Epoch:2, Loss:0.02701, Accuracy:0.9928\n",
      "Epoch:3, Loss:0.03303, Accuracy:0.9911\n",
      "Epoch:4, Loss:0.03142, Accuracy:0.992\n",
      "Epoch:5, Loss:0.0284, Accuracy:0.9922\n",
      "Epoch:6, Loss:0.04238, Accuracy:0.9907\n",
      "Epoch:7, Loss:0.02586, Accuracy:0.9933\n",
      "Epoch:8, Loss:0.04546, Accuracy:0.9912\n",
      "Epoch:9, Loss:0.0361, Accuracy:0.9927\n",
      "Epoch:10, Loss:0.04297, Accuracy:0.9912\n",
      "Epoch:11, Loss:0.04866, Accuracy:0.9918\n",
      "Epoch:12, Loss:0.03302, Accuracy:0.9922\n",
      "Epoch:13, Loss:0.04313, Accuracy:0.9921\n",
      "Epoch:14, Loss:0.04202, Accuracy:0.9936\n",
      "Epoch:15, Loss:0.04972, Accuracy:0.9922\n",
      "Epoch:16, Loss:0.0609, Accuracy:0.9906\n",
      "Epoch:17, Loss:0.06578, Accuracy:0.9899\n",
      "Epoch:18, Loss:0.05611, Accuracy:0.9917\n",
      "Epoch:19, Loss:0.04953, Accuracy:0.9929\n"
     ]
    }
   ],
   "source": [
    "pre_train(mnist_train_set, 20, 0.01)"
   ]
  },
  {
   "cell_type": "code",
   "execution_count": 19,
   "metadata": {},
   "outputs": [
    {
     "name": "stdout",
     "output_type": "stream",
     "text": [
      "MNIST TEST:  Loss: 0.04953 | Accuracy: 99.29%\n",
      "USPS TEST:  Loss: 0.5676 | Accuracy: 92.13%\n",
      "MNISTM TEST:  Loss: 2.014 | Accuracy: 38.93%\n"
     ]
    },
    {
     "data": {
      "text/plain": [
       "(2.0137925, 0.3893)"
      ]
     },
     "execution_count": 19,
     "metadata": {},
     "output_type": "execute_result"
    }
   ],
   "source": [
    "# Check Source Only Performance\n",
    "print(\"MNIST TEST: \", end=' ')\n",
    "model_eval(mnist_test_set, source_encoder)\n",
    "print(\"USPS TEST: \", end=' ')\n",
    "model_eval(usps_test_set, source_encoder)\n",
    "print(\"MNISTM TEST: \", end=' ')\n",
    "model_eval(mnistm_test_set, source_encoder)"
   ]
  },
  {
   "cell_type": "code",
   "execution_count": 22,
   "metadata": {},
   "outputs": [],
   "source": [
    "source_encoder.save('mnist_train.h5')\n",
    "target_encoder = keras.models.load_model('mnist_train.h5', compile=False)\n",
    "# source_encoder = keras.models.load_model('mnist_train.h5')"
   ]
  },
  {
   "cell_type": "code",
   "execution_count": 23,
   "metadata": {},
   "outputs": [
    {
     "name": "stdout",
     "output_type": "stream",
     "text": [
      "Loss: 0.04953 | Accuracy: 99.29%\n",
      "Loss: 0.04953 | Accuracy: 99.29%\n"
     ]
    },
    {
     "data": {
      "text/plain": [
       "(0.04953389, 0.9929)"
      ]
     },
     "execution_count": 23,
     "metadata": {},
     "output_type": "execute_result"
    }
   ],
   "source": [
    "# Check Model Load\n",
    "model_eval(mnist_test_set, source_encoder)\n",
    "model_eval(mnist_test_set, target_encoder)"
   ]
  },
  {
   "cell_type": "code",
   "execution_count": 30,
   "metadata": {},
   "outputs": [],
   "source": [
    "critic = Critics()\n",
    "cce = tf.keras.losses.SparseCategoricalCrossentropy()"
   ]
  },
  {
   "cell_type": "code",
   "execution_count": 35,
   "metadata": {},
   "outputs": [],
   "source": [
    "@tf.function\n",
    "def train_step(img_src, img_tgt):\n",
    "    # discriminator\n",
    "    with tf.GradientTape() as disc_tape:\n",
    "        source_ebd = source_encoder(img_src, training=False)\n",
    "        target_ebd = target_encoder(img_tgt, training=True)\n",
    "        concat_ebd = tf.concat([source_ebd, target_ebd], 0)\n",
    "\n",
    "        concat_pred = critic(concat_ebd, training=True)\n",
    "        \n",
    "        source_label = tf.ones_like(source_ebd[:, 0])\n",
    "        target_label = tf.zeros_like(target_ebd[:, 0])\n",
    "        concat_label = tf.concat([source_label, target_label], 0)\n",
    "        \n",
    "        disc_loss = cce(concat_label, concat_pred)\n",
    "\n",
    "    disc_grads = disc_tape.gradient(disc_loss, critic.trainable_variables)\n",
    "    disc_opt.apply_gradients(zip(disc_grads, critic.trainable_variables))\n",
    "    \n",
    "    with tf.GradientTape() as tgt_tape:\n",
    "        target_ebd = target_encoder(img_tgt, training=True)\n",
    "        target_pred = critic(target_ebd, training=False)\n",
    "        target_label = tf.ones_like(target_pred[:, 0])\n",
    "        \n",
    "        target_loss = cce(target_label, target_pred)\n",
    "        \n",
    "    target_grads = tgt_tape.gradient(target_loss, target_encoder.trainable_variables)\n",
    "    tgt_opt.apply_gradients(zip(target_grads, target_encoder.trainable_variables))\n",
    "    \n",
    "    return disc_loss, target_loss"
   ]
  },
  {
   "cell_type": "code",
   "execution_count": 36,
   "metadata": {},
   "outputs": [],
   "source": [
    "checkpoint_dir = './training_checkpoints'\n",
    "checkpoint_prefix = os.path.join(checkpoint_dir, \"ckpt\")\n",
    "\n",
    "dll = []\n",
    "tll = []"
   ]
  },
  {
   "cell_type": "code",
   "execution_count": 43,
   "metadata": {},
   "outputs": [
    {
     "data": {
      "text/plain": [
       "{'initial_learning_rate': 0.0001,\n",
       " 'decay_steps': 1000,\n",
       " 'decay_rate': 0.9,\n",
       " 'staircase': True,\n",
       " 'name': None}"
      ]
     },
     "execution_count": 43,
     "metadata": {},
     "output_type": "execute_result"
    }
   ],
   "source": [
    "tgt_opt.learning_rate.get_config()"
   ]
  },
  {
   "cell_type": "code",
   "execution_count": 45,
   "metadata": {},
   "outputs": [
    {
     "name": "stdout",
     "output_type": "stream",
     "text": [
      "Epoch:0 => Loss: 4.577 | Accuracy: 65.05%\n",
      "Epoch:1 => Loss: 4.577 | Accuracy: 65.09%\n",
      "Epoch:2 => Loss: 4.559 | Accuracy: 65.15%\n",
      "Epoch:3 => Loss: 4.589 | Accuracy: 65.05%\n",
      "Epoch:4 => Loss: 4.577 | Accuracy: 65.07%\n",
      "Epoch:5 => Loss: 4.577 | Accuracy: 65.06%\n",
      "Epoch:6 => Loss: 4.569 | Accuracy: 65.09%\n",
      "Epoch:7 => Loss: 4.588 | Accuracy: 65.06%\n",
      "Epoch:8 => Loss: 4.596 | Accuracy: 65.03%\n",
      "Epoch:9 => Loss: 4.597 | Accuracy: 65.02%\n",
      "Epoch:10 => Loss: 4.573 | Accuracy: 65.13%\n",
      "Epoch:11 => Loss: 4.588 | Accuracy: 65.02%\n",
      "Epoch:12 => Loss: 4.58 | Accuracy: 65.04%\n",
      "Epoch:13 => Loss: 4.585 | Accuracy: 65.00%\n",
      "Epoch:14 => Loss: 4.583 | Accuracy: 65.01%\n",
      "Epoch:15 => Loss: 4.578 | Accuracy: 64.99%\n",
      "Epoch:16 => Loss: 4.588 | Accuracy: 64.96%\n",
      "Epoch:17 => Loss: 4.581 | Accuracy: 64.96%\n",
      "Epoch:18 => Loss: 4.584 | Accuracy: 64.99%\n",
      "Epoch:19 => Loss: 4.585 | Accuracy: 64.99%\n",
      "Epoch:20 => Loss: 4.584 | Accuracy: 64.96%\n",
      "Epoch:21 => Loss: 4.578 | Accuracy: 65.01%\n",
      "Epoch:22 => Loss: 4.585 | Accuracy: 64.94%\n",
      "Epoch:23 => Loss: 4.594 | Accuracy: 64.98%\n",
      "Epoch:24 => Loss: 4.58 | Accuracy: 65.02%\n",
      "Epoch:25 => Loss: 4.588 | Accuracy: 65.04%\n",
      "Epoch:26 => Loss: 4.577 | Accuracy: 64.99%\n",
      "Epoch:27 => Loss: 4.584 | Accuracy: 65.00%\n",
      "Epoch:28 => Loss: 4.587 | Accuracy: 64.99%\n",
      "Epoch:29 => Loss: 4.59 | Accuracy: 64.97%\n",
      "Epoch:30 => Loss: 4.594 | Accuracy: 64.97%\n",
      "Epoch:31 => Loss: 4.575 | Accuracy: 64.99%\n",
      "Epoch:32 => Loss: 4.564 | Accuracy: 64.96%\n",
      "Epoch:33 => Loss: 4.585 | Accuracy: 64.96%\n",
      "Epoch:34 => Loss: 4.6 | Accuracy: 64.94%\n",
      "Epoch:35 => Loss: 4.58 | Accuracy: 64.95%\n",
      "Epoch:36 => Loss: 4.588 | Accuracy: 64.96%\n",
      "Epoch:37 => Loss: 4.585 | Accuracy: 64.98%\n",
      "Epoch:38 => Loss: 4.59 | Accuracy: 64.98%\n",
      "Epoch:39 => Loss: 4.586 | Accuracy: 64.97%\n",
      "Epoch:40 => Loss: 4.573 | Accuracy: 64.97%\n",
      "Epoch:41 => Loss: 4.585 | Accuracy: 64.96%\n",
      "Epoch:42 => Loss: 4.599 | Accuracy: 64.98%\n",
      "Epoch:43 => Loss: 4.58 | Accuracy: 64.97%\n",
      "Epoch:44 => Loss: 4.582 | Accuracy: 64.98%\n",
      "Epoch:45 => Loss: 4.58 | Accuracy: 64.98%\n",
      "Epoch:46 => Loss: 4.592 | Accuracy: 64.98%\n",
      "Epoch:47 => Loss: 4.578 | Accuracy: 64.99%\n",
      "Epoch:48 => Loss: 4.602 | Accuracy: 64.98%\n",
      "Epoch:49 => Loss: 4.59 | Accuracy: 64.97%\n",
      "Epoch:50 => Loss: 4.587 | Accuracy: 64.99%\n",
      "Epoch:51 => Loss: 4.596 | Accuracy: 64.98%\n",
      "Epoch:52 => Loss: 4.586 | Accuracy: 64.98%\n",
      "Epoch:53 => Loss: 4.577 | Accuracy: 64.98%\n",
      "Epoch:54 => Loss: 4.588 | Accuracy: 64.97%\n",
      "Epoch:55 => Loss: 4.593 | Accuracy: 64.98%\n",
      "Epoch:56 => Loss: 4.584 | Accuracy: 64.99%\n",
      "Epoch:57 => Loss: 4.579 | Accuracy: 64.99%\n",
      "Epoch:58 => Loss: 4.597 | Accuracy: 64.99%\n",
      "Epoch:59 => Loss: 4.586 | Accuracy: 64.96%\n",
      "Epoch:60 => Loss: 4.593 | Accuracy: 64.96%\n",
      "Epoch:61 => Loss: 4.577 | Accuracy: 64.96%\n",
      "Epoch:62 => Loss: 4.576 | Accuracy: 64.97%\n",
      "Epoch:63 => Loss: 4.562 | Accuracy: 64.96%\n",
      "Epoch:64 => Loss: 4.604 | Accuracy: 64.97%\n",
      "Epoch:65 => Loss: 4.584 | Accuracy: 64.97%\n",
      "Epoch:66 => Loss: 4.578 | Accuracy: 64.97%\n",
      "Epoch:67 => Loss: 4.586 | Accuracy: 64.98%\n",
      "Epoch:68 => Loss: 4.583 | Accuracy: 64.97%\n",
      "Epoch:69 => Loss: 4.587 | Accuracy: 64.98%\n",
      "Epoch:70 => Loss: 4.589 | Accuracy: 64.98%\n",
      "Epoch:71 => Loss: 4.585 | Accuracy: 64.96%\n",
      "Epoch:72 => Loss: 4.578 | Accuracy: 64.96%\n",
      "Epoch:73 => Loss: 4.584 | Accuracy: 64.97%\n",
      "Epoch:74 => Loss: 4.588 | Accuracy: 64.97%\n",
      "Epoch:75 => Loss: 4.585 | Accuracy: 64.98%\n",
      "Epoch:76 => Loss: 4.595 | Accuracy: 64.98%\n",
      "Epoch:77 => Loss: 4.593 | Accuracy: 64.98%\n",
      "Epoch:78 => Loss: 4.582 | Accuracy: 64.98%\n",
      "Epoch:79 => Loss: 4.592 | Accuracy: 64.98%\n",
      "Epoch:80 => Loss: 4.573 | Accuracy: 64.97%\n",
      "Epoch:81 => Loss: 4.578 | Accuracy: 64.97%\n",
      "Epoch:82 => Loss: 4.6 | Accuracy: 64.97%\n",
      "Epoch:83 => Loss: 4.587 | Accuracy: 64.96%\n",
      "Epoch:84 => Loss: 4.613 | Accuracy: 64.96%\n",
      "Epoch:85 => Loss: 4.604 | Accuracy: 64.96%\n",
      "Epoch:86 => Loss: 4.576 | Accuracy: 64.97%\n",
      "Epoch:87 => Loss: 4.591 | Accuracy: 64.96%\n",
      "Epoch:88 => Loss: 4.571 | Accuracy: 64.98%\n",
      "Epoch:89 => Loss: 4.58 | Accuracy: 64.97%\n",
      "Epoch:90 => Loss: 4.593 | Accuracy: 64.96%\n",
      "Epoch:91 => Loss: 4.6 | Accuracy: 64.96%\n",
      "Epoch:92 => Loss: 4.582 | Accuracy: 64.96%\n",
      "Epoch:93 => Loss: 4.58 | Accuracy: 64.96%\n",
      "Epoch:94 => Loss: 4.594 | Accuracy: 64.96%\n",
      "Epoch:95 => Loss: 4.579 | Accuracy: 64.96%\n",
      "Epoch:96 => Loss: 4.581 | Accuracy: 64.96%\n",
      "Epoch:97 => Loss: 4.581 | Accuracy: 64.96%\n",
      "Epoch:98 => Loss: 4.582 | Accuracy: 64.96%\n",
      "Epoch:99 => Loss: 4.606 | Accuracy: 64.96%\n"
     ]
    }
   ],
   "source": [
    "lr = 1e-5\n",
    "tgt_opt = keras.optimizers.Adam(lr)\n",
    "disc_opt = keras.optimizers.Adam(lr)\n",
    "\n",
    "for epoch in range(100):\n",
    "    for (sx, sy), (tx, ty) in zip(mnist_train_set, mnistm_train_set):\n",
    "        dl, tl = train_step(sx, tx)\n",
    "        dll.append(dl.numpy())\n",
    "        tll.append(tl.numpy())\n",
    "        \n",
    "    if (epoch + 1) % 10 == 0:\n",
    "        tgt_opt.learning_rate = tgt_opt.learning_rate/2\n",
    "        disc_opt.learning_rate = disc_opt.learning_rate/2\n",
    "        checkpoint = tf.train.Checkpoint(target_optimizer=tgt_opt,\n",
    "                                         discriminator_optimizer=disc_opt,\n",
    "                                         source_encoder=source_encoder,\n",
    "                                         target_encoder=target_encoder,\n",
    "                                         source_classifier=source_classifier,\n",
    "                                         ciritic=critic)\n",
    "        checkpoint.save(file_prefix = checkpoint_prefix)\n",
    "    \n",
    "    print(\"Epoch:\"+str(epoch), end=\" => \")\n",
    "    model_eval(mnistm_test_set, target_encoder)\n",
    "#     print(\"Current lr: {}\".format(tgt_opt.learning_rate))"
   ]
  },
  {
   "cell_type": "code",
   "execution_count": 46,
   "metadata": {},
   "outputs": [
    {
     "data": {
      "text/plain": [
       "[<matplotlib.lines.Line2D at 0x1f96cd30b08>]"
      ]
     },
     "execution_count": 46,
     "metadata": {},
     "output_type": "execute_result"
    },
    {
     "data": {
      "image/png": "[encoded data removed]",
      "text/plain": [
       "<Figure size 432x288 with 1 Axes>"
      ]
     },
     "metadata": {
      "needs_background": "light"
     },
     "output_type": "display_data"
    }
   ],
   "source": [
    "plt.plot(dll)\n",
    "plt.plot(tll)"
   ]
  },
  {
   "cell_type": "code",
   "execution_count": 47,
   "metadata": {},
   "outputs": [
    {
     "name": "stdout",
     "output_type": "stream",
     "text": [
      "Loss: 2.021 | Accuracy: 38.35%\n",
      "Loss: 4.618 | Accuracy: 64.84%\n"
     ]
    },
    {
     "data": {
      "text/plain": [
       "(4.617563, 0.6484)"
      ]
     },
     "execution_count": 47,
     "metadata": {},
     "output_type": "execute_result"
    }
   ],
   "source": [
    "model_eval(mnistm_train_set, source_encoder)\n",
    "model_eval(mnistm_train_set, target_encoder)"
   ]
  },
  {
   "cell_type": "code",
   "execution_count": 48,
   "metadata": {},
   "outputs": [
    {
     "name": "stdout",
     "output_type": "stream",
     "text": [
      "Loss: 2.014 | Accuracy: 38.93%\n",
      "Loss: 4.587 | Accuracy: 64.96%\n"
     ]
    },
    {
     "data": {
      "text/plain": [
       "(4.5865436, 0.6496)"
      ]
     },
     "execution_count": 48,
     "metadata": {},
     "output_type": "execute_result"
    }
   ],
   "source": [
    "model_eval(mnistm_test_set, source_encoder)\n",
    "model_eval(mnistm_test_set, target_encoder)"
   ]
  },
  {
   "cell_type": "code",
   "execution_count": null,
   "metadata": {},
   "outputs": [],
   "source": []
  }
 ],
 "metadata": {
  "kernelspec": {
   "display_name": "Python 3",
   "language": "python",
   "name": "python3"
  },
  "language_info": {
   "codemirror_mode": {
    "name": "ipython",
    "version": 3
   },
   "file_extension": ".py",
   "mimetype": "text/x-python",
   "name": "python",
   "nbconvert_exporter": "python",
   "pygments_lexer": "ipython3",
   "version": "3.7.4"
  }
 },
 "nbformat": 4,
 "nbformat_minor": 2
}
