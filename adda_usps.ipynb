{
 "cells": [
  {
   "cell_type": "code",
   "execution_count": 26,
   "metadata": {},
   "outputs": [],
   "source": [
    "import tensorflow as tf\n",
    "import numpy as np\n",
    "import h5py\n",
    "import matplotlib.pyplot as plt\n",
    "from tensorflow.keras import layers"
   ]
  },
  {
   "cell_type": "code",
   "execution_count": 9,
   "metadata": {},
   "outputs": [
    {
     "name": "stdout",
     "output_type": "stream",
     "text": [
      "(60000, 28, 28, 3)\n",
      "(10000, 28, 28, 3)\n"
     ]
    }
   ],
   "source": [
    "# Load MNIST\n",
    "(mnist_X, mnist_y), (mnist_X_, mnist_y_)= tf.keras.datasets.mnist.load_data()\n",
    "\n",
    "mnist_X = np.reshape(mnist_X,(60000, 28, 28, 1)) / 255\n",
    "mnist_X = np.tile(mnist_X, (1, 1, 1, 3))\n",
    "print(mnist_X.shape)\n",
    "\n",
    "mnist_X_ = np.reshape(mnist_X_,(10000, 28, 28, 1)) / 255\n",
    "mnist_X_ = np.tile(mnist_X_, (1, 1, 1, 3))\n",
    "print(mnist_X_.shape)"
   ]
  },
  {
   "cell_type": "code",
   "execution_count": 13,
   "metadata": {},
   "outputs": [
    {
     "name": "stdout",
     "output_type": "stream",
     "text": [
      "(7291, 28, 28, 3)\n",
      "(2007, 28, 28, 3)\n"
     ]
    }
   ],
   "source": [
    "# Load USPS\n",
    "with h5py.File('usps.h5', 'r') as hf:\n",
    "    usps_train = hf.get('train')\n",
    "    usps_X = usps_train.get('data')[:]\n",
    "    usps_y = usps_train.get('target')[:]\n",
    "    usps_test = hf.get('test')\n",
    "    usps_X_ = usps_test.get('data')[:]\n",
    "    usps_y_ = usps_test.get('target')[:]\n",
    "\n",
    "padding = [[0, 0],\n",
    "           [6, 6],\n",
    "           [6, 6],\n",
    "           [0, 0]]\n",
    "\n",
    "usps_X = np.reshape(usps_X, (-1, 16, 16, 1))\n",
    "usps_X = np.tile(usps_X, (1,1,1,3))\n",
    "usps_X = tf.pad(usps_X, padding, 'CONSTANT').numpy()\n",
    "print(usps_X.shape)\n",
    "\n",
    "usps_X_ = np.reshape(usps_X_, (-1, 16, 16, 1))\n",
    "usps_X_ = np.tile(usps_X_, (1,1,1,3))\n",
    "usps_X_ = tf.pad(usps_X_, padding, 'CONSTANT').numpy()\n",
    "print(usps_X_.shape)"
   ]
  },
  {
   "cell_type": "code",
   "execution_count": 18,
   "metadata": {},
   "outputs": [
    {
     "name": "stdout",
     "output_type": "stream",
     "text": [
      "MNIST SAMPLE: 3\n",
      "USPS SAMPLE: 7\n"
     ]
    },
    {
     "data": {
      "image/png": "[encoded data removed]",
      "text/plain": [
       "<Figure size 432x288 with 2 Axes>"
      ]
     },
     "metadata": {
      "needs_background": "light"
     },
     "output_type": "display_data"
    },
    {
     "data": {
      "image/png": "[encoded data removed]",
      "text/plain": [
       "<Figure size 432x288 with 2 Axes>"
      ]
     },
     "metadata": {
      "needs_background": "light"
     },
     "output_type": "display_data"
    }
   ],
   "source": [
    "def show_img(img):\n",
    "    plt.figure()\n",
    "    plt.imshow(img)\n",
    "    plt.colorbar()\n",
    "\n",
    "print(\"MNIST SAMPLE: {}\".format(mnist_y[10]))\n",
    "show_img(mnist_X[10])\n",
    "print(\"USPS SAMPLE: {}\".format(usps_y[10]))\n",
    "show_img(usps_X[10])"
   ]
  },
  {
   "cell_type": "markdown",
   "metadata": {},
   "source": [
    "![F2](\"Figure2.png\")"
   ]
  },
  {
   "cell_type": "markdown",
   "metadata": {},
   "source": [
    "### Dataset Details\n",
    "\n",
    " - For adaptation between MNIST and USPS, we follow the training protocol established in [21], __sampling 2000 images from MNIST and 1800 from USPS.__"
   ]
  },
  {
   "cell_type": "markdown",
   "metadata": {},
   "source": [
    "### Model Details\n",
    "\n",
    " - our adversarial discriminator consists of 3 fully connected layers: two layers with 500 hidden units followed by the final discriminator output\n",
    " - Each of the 500-unit layers uses a ReLU activation function"
   ]
  },
  {
   "cell_type": "code",
   "execution_count": 40,
   "metadata": {},
   "outputs": [
    {
     "name": "stdout",
     "output_type": "stream",
     "text": [
      "Model: \"sequential_10\"\n",
      "_________________________________________________________________\n",
      "Layer (type)                 Output Shape              Param #   \n",
      "=================================================================\n",
      "conv2d_16 (Conv2D)           (None, 24, 24, 20)        1520      \n",
      "_________________________________________________________________\n",
      "max_pooling2d_16 (MaxPooling (None, 12, 12, 20)        0         \n",
      "_________________________________________________________________\n",
      "conv2d_17 (Conv2D)           (None, 8, 8, 50)          25050     \n",
      "_________________________________________________________________\n",
      "max_pooling2d_17 (MaxPooling (None, 4, 4, 50)          0         \n",
      "_________________________________________________________________\n",
      "flatten_6 (Flatten)          (None, 800)               0         \n",
      "_________________________________________________________________\n",
      "dropout_8 (Dropout)          (None, 800)               0         \n",
      "_________________________________________________________________\n",
      "dense_7 (Dense)              (None, 500)               400500    \n",
      "=================================================================\n",
      "Total params: 427,070\n",
      "Trainable params: 427,070\n",
      "Non-trainable params: 0\n",
      "_________________________________________________________________\n"
     ]
    }
   ],
   "source": [
    "def LeNetEncoder():\n",
    "    model = tf.keras.Sequential()\n",
    "    \n",
    "    model.add(layers.Conv2D(20, (5, 5),\n",
    "                        activation='relu',\n",
    "                        input_shape=(28, 28, 3)))\n",
    "    model.add(layers.MaxPooling2D((2, 2)))\n",
    "    \n",
    "    model.add(layers.Conv2D(50, (5, 5),\n",
    "                        activation='relu',\n",
    "                        input_shape=(28, 28, 3)))\n",
    "    model.add(layers.MaxPooling2D((2, 2)))\n",
    "    model.add(layers.Flatten())\n",
    "    model.add(layers.Dropout(0.1))\n",
    "    \n",
    "    model.add(layers.Dense(500,\n",
    "                           activation='relu'))\n",
    "    \n",
    "    return model\n",
    "\n",
    "LNE = LeNetEncoder()\n",
    "LNE.summary()"
   ]
  },
  {
   "cell_type": "code",
   "execution_count": 29,
   "metadata": {},
   "outputs": [
    {
     "name": "stdout",
     "output_type": "stream",
     "text": [
      "Model: \"sequential_3\"\n",
      "_________________________________________________________________\n",
      "Layer (type)                 Output Shape              Param #   \n",
      "=================================================================\n",
      "dropout_1 (Dropout)          (None, 500)               0         \n",
      "_________________________________________________________________\n",
      "dense_2 (Dense)              (None, 10)                5010      \n",
      "=================================================================\n",
      "Total params: 5,010\n",
      "Trainable params: 5,010\n",
      "Non-trainable params: 0\n",
      "_________________________________________________________________\n"
     ]
    }
   ],
   "source": [
    "def LeNetClassifier():\n",
    "    model = tf.keras.Sequential()\n",
    "    model.add(layers.Dropout(0.1,\n",
    "                             input_shape=(500,)))\n",
    "    model.add(layers.Dense(10,\n",
    "                           activation='relu'))\n",
    "    \n",
    "    return model\n",
    "\n",
    "LNC = LeNetClassifier()\n",
    "LNC.summary()"
   ]
  },
  {
   "cell_type": "code",
   "execution_count": 41,
   "metadata": {},
   "outputs": [
    {
     "data": {
      "text/plain": [
       "(28, 28, 3)"
      ]
     },
     "execution_count": 41,
     "metadata": {},
     "output_type": "execute_result"
    }
   ],
   "source": [
    "usps_X[0].shape"
   ]
  },
  {
   "cell_type": "code",
   "execution_count": 46,
   "metadata": {},
   "outputs": [
    {
     "data": {
      "text/plain": [
       "array([[0.39568523, 0.        , 0.11663099, ..., 0.        , 0.19366807,\n",
       "        0.1114129 ],\n",
       "       [0.37635043, 0.        , 0.09811234, ..., 0.        , 0.12842494,\n",
       "        0.02121469],\n",
       "       [0.26739928, 0.        , 0.2933135 , ..., 0.        , 0.12806478,\n",
       "        0.03212576]], dtype=float32)"
      ]
     },
     "execution_count": 46,
     "metadata": {},
     "output_type": "execute_result"
    }
   ],
   "source": [
    "embedding = LNE(usps_X[:3])\n",
    "embedding.numpy()"
   ]
  },
  {
   "cell_type": "code",
   "execution_count": 47,
   "metadata": {},
   "outputs": [
    {
     "data": {
      "text/plain": [
       "array([[0.        , 0.04376975, 0.        , 0.01599182, 0.00599526,\n",
       "        0.        , 0.        , 0.06911086, 0.19581142, 0.13797127],\n",
       "       [0.        , 0.07259573, 0.        , 0.        , 0.        ,\n",
       "        0.0332123 , 0.        , 0.0894923 , 0.1837567 , 0.07489282],\n",
       "       [0.        , 0.09285565, 0.        , 0.        , 0.        ,\n",
       "        0.        , 0.        , 0.08381765, 0.16857406, 0.16222906]],\n",
       "      dtype=float32)"
      ]
     },
     "execution_count": 47,
     "metadata": {},
     "output_type": "execute_result"
    }
   ],
   "source": [
    "pred = LNC(embedding)\n",
    "pred.numpy()"
   ]
  },
  {
   "cell_type": "code",
   "execution_count": null,
   "metadata": {},
   "outputs": [],
   "source": []
  }
 ],
 "metadata": {
  "kernelspec": {
   "display_name": "Python 3",
   "language": "python",
   "name": "python3"
  },
  "language_info": {
   "codemirror_mode": {
    "name": "ipython",
    "version": 3
   },
   "file_extension": ".py",
   "mimetype": "text/x-python",
   "name": "python",
   "nbconvert_exporter": "python",
   "pygments_lexer": "ipython3",
   "version": "3.6.9"
  }
 },
 "nbformat": 4,
 "nbformat_minor": 2
}
