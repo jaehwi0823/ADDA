{
 "cells": [
  {
   "cell_type": "code",
   "execution_count": 1,
   "metadata": {},
   "outputs": [],
   "source": [
    "import tensorflow as tf\n",
    "import numpy as np\n",
    "import h5py\n",
    "import matplotlib.pyplot as plt\n",
    "from tensorflow import keras\n",
    "from tensorflow.keras import layers"
   ]
  },
  {
   "cell_type": "code",
   "execution_count": 2,
   "metadata": {},
   "outputs": [
    {
     "name": "stdout",
     "output_type": "stream",
     "text": [
      "(60000, 28, 28, 3)\n",
      "(10000, 28, 28, 3)\n"
     ]
    }
   ],
   "source": [
    "# Load MNIST\n",
    "(mnist_X, mnist_y), (mnist_X_, mnist_y_)= tf.keras.datasets.mnist.load_data()\n",
    "\n",
    "mnist_X = np.reshape(mnist_X,(60000, 28, 28, 1)) / 255\n",
    "mnist_X = np.tile(mnist_X, (1, 1, 1, 3))\n",
    "mnist_X = mnist_X.astype('float32')\n",
    "print(mnist_X.shape)\n",
    "\n",
    "mnist_X_ = np.reshape(mnist_X_,(10000, 28, 28, 1)) / 255\n",
    "mnist_X_ = np.tile(mnist_X_, (1, 1, 1, 3))\n",
    "mnist_X_ = mnist_X_.astype('float32')\n",
    "print(mnist_X_.shape)"
   ]
  },
  {
   "cell_type": "code",
   "execution_count": 3,
   "metadata": {},
   "outputs": [
    {
     "name": "stdout",
     "output_type": "stream",
     "text": [
      "(7291, 28, 28, 3)\n",
      "(2007, 28, 28, 3)\n"
     ]
    }
   ],
   "source": [
    "# Load USPS\n",
    "with h5py.File('usps.h5', 'r') as hf:\n",
    "    usps_train = hf.get('train')\n",
    "    usps_X = usps_train.get('data')[:]\n",
    "    usps_y = usps_train.get('target')[:]\n",
    "    usps_test = hf.get('test')\n",
    "    usps_X_ = usps_test.get('data')[:]\n",
    "    usps_y_ = usps_test.get('target')[:]\n",
    "\n",
    "padding = [[0, 0],\n",
    "           [6, 6],\n",
    "           [6, 6],\n",
    "           [0, 0]]\n",
    "\n",
    "usps_X = np.reshape(usps_X, (-1, 16, 16, 1))\n",
    "usps_X = np.tile(usps_X, (1,1,1,3))\n",
    "usps_X = tf.pad(usps_X, padding, 'CONSTANT').numpy()\n",
    "print(usps_X.shape)\n",
    "\n",
    "usps_X_ = np.reshape(usps_X_, (-1, 16, 16, 1))\n",
    "usps_X_ = np.tile(usps_X_, (1,1,1,3))\n",
    "usps_X_ = tf.pad(usps_X_, padding, 'CONSTANT').numpy()\n",
    "print(usps_X_.shape)"
   ]
  },
  {
   "cell_type": "code",
   "execution_count": 4,
   "metadata": {},
   "outputs": [
    {
     "name": "stdout",
     "output_type": "stream",
     "text": [
      "MNIST SAMPLE: 3\n",
      "USPS SAMPLE: 7\n"
     ]
    },
    {
     "data": {
      "image/png": "[encoded data removed]",
      "text/plain": [
       "<Figure size 432x288 with 2 Axes>"
      ]
     },
     "metadata": {
      "needs_background": "light"
     },
     "output_type": "display_data"
    },
    {
     "data": {
      "image/png": "[encoded data removed]",
      "text/plain": [
       "<Figure size 432x288 with 2 Axes>"
      ]
     },
     "metadata": {
      "needs_background": "light"
     },
     "output_type": "display_data"
    }
   ],
   "source": [
    "def show_img(img):\n",
    "    plt.figure()\n",
    "    plt.imshow(img)\n",
    "    plt.colorbar()\n",
    "\n",
    "print(\"MNIST SAMPLE: {}\".format(mnist_y[10]))\n",
    "show_img(mnist_X[10])\n",
    "print(\"USPS SAMPLE: {}\".format(usps_y[10]))\n",
    "show_img(usps_X[10])"
   ]
  },
  {
   "cell_type": "markdown",
   "metadata": {},
   "source": [
    "![F2](\"./Figure2.png\")"
   ]
  },
  {
   "cell_type": "markdown",
   "metadata": {},
   "source": [
    "### Dataset Details\n",
    "\n",
    " - For adaptation between MNIST and USPS, we follow the training protocol established in [21], __sampling 2000 images from MNIST and 1800 from USPS.__"
   ]
  },
  {
   "cell_type": "markdown",
   "metadata": {},
   "source": [
    "### Model Details\n",
    "\n",
    " - our adversarial discriminator consists of 3 fully connected layers: two layers with 500 hidden units followed by the final discriminator output\n",
    " - Each of the 500-unit layers uses a ReLU activation function"
   ]
  },
  {
   "cell_type": "code",
   "execution_count": 5,
   "metadata": {},
   "outputs": [],
   "source": [
    "def LeNetEncoder():\n",
    "    model = tf.keras.Sequential()\n",
    "    \n",
    "    model.add(layers.Conv2D(20, (5, 5),\n",
    "                        activation='relu',\n",
    "                        input_shape=(28, 28, 3)))\n",
    "    model.add(layers.MaxPooling2D((2, 2)))\n",
    "    \n",
    "    model.add(layers.Conv2D(50, (5, 5),\n",
    "                        activation='relu',\n",
    "                        input_shape=(28, 28, 3)))\n",
    "    model.add(layers.MaxPooling2D((2, 2)))\n",
    "    model.add(layers.Flatten())\n",
    "    model.add(layers.Dropout(0.1))\n",
    "    \n",
    "    model.add(layers.Dense(500,\n",
    "                           activation='relu'))\n",
    "    \n",
    "    return model"
   ]
  },
  {
   "cell_type": "code",
   "execution_count": 6,
   "metadata": {},
   "outputs": [],
   "source": [
    "def LeNetClassifier():\n",
    "    model = tf.keras.Sequential()\n",
    "    model.add(layers.Dropout(0.1,\n",
    "                             input_shape=(500,)))\n",
    "    model.add(layers.Dense(10,\n",
    "                           activation='softmax'))\n",
    "    \n",
    "    return model"
   ]
  },
  {
   "cell_type": "code",
   "execution_count": 18,
   "metadata": {},
   "outputs": [],
   "source": [
    "def Critics():\n",
    "    model = tf.keras.Sequential()\n",
    "    model.add(layers.Dense(500,\n",
    "                           input_shape=(500,),\n",
    "                           activation='relu'))\n",
    "    model.add(layers.Dense(500,\n",
    "                           activation='relu'))\n",
    "    model.add(layers.Dense(1,\n",
    "                           activation='softmax'))\n",
    "    \n",
    "    return model"
   ]
  },
  {
   "cell_type": "code",
   "execution_count": 8,
   "metadata": {},
   "outputs": [],
   "source": [
    "source_encoder = LeNetEncoder()\n",
    "target_encoder = LeNetEncoder()\n",
    "source_classifier = LeNetClassifier()"
   ]
  },
  {
   "cell_type": "code",
   "execution_count": 9,
   "metadata": {},
   "outputs": [],
   "source": [
    "trainsets = tf.data.Dataset.from_tensor_slices((mnist_X, mnist_y)).shuffle(buffer_size=mnist_X.shape[0]).batch(64)\n",
    "testsets = tf.data.Dataset.from_tensor_slices((mnist_X_, mnist_y_)).shuffle(buffer_size=mnist_X_.shape[0]).batch(64)"
   ]
  },
  {
   "cell_type": "code",
   "execution_count": 10,
   "metadata": {},
   "outputs": [],
   "source": [
    "# pre-train (1) source_encoder, (2) source_classifier\n",
    "@tf.function\n",
    "def train_step(X, y):\n",
    "    with tf.GradientTape() as tape:\n",
    "        embedding = source_encoder(X)\n",
    "        pred = source_classifier(embedding)\n",
    "        loss_value = loss(y, pred)\n",
    "        \n",
    "    tvars = source_encoder.trainable_variables + source_classifier.trainable_variables\n",
    "    grads = tape.gradient(loss_value, tvars)\n",
    "    opt.apply_gradients(zip(grads, tvars))\n",
    "    \n",
    "    return pred, loss_value"
   ]
  },
  {
   "cell_type": "code",
   "execution_count": 11,
   "metadata": {},
   "outputs": [
    {
     "name": "stdout",
     "output_type": "stream",
     "text": [
      "Step:100, Loss:0.143, Accuracy:0.9531\n",
      "Step:200, Loss:0.07479, Accuracy:0.9844\n",
      "Step:300, Loss:0.2525, Accuracy:0.9219\n",
      "Step:400, Loss:0.161, Accuracy:0.9688\n",
      "Step:500, Loss:0.1456, Accuracy:0.9375\n",
      "Step:600, Loss:0.06269, Accuracy:0.9844\n",
      "Step:700, Loss:0.01195, Accuracy:1.0\n",
      "Step:800, Loss:0.08905, Accuracy:0.9531\n",
      "Step:900, Loss:0.2232, Accuracy:0.9844\n",
      "Step:1000, Loss:0.02362, Accuracy:0.9844\n",
      "Step:1100, Loss:0.1572, Accuracy:0.9688\n",
      "Step:1200, Loss:0.1211, Accuracy:0.9531\n",
      "Step:1300, Loss:0.01465, Accuracy:1.0\n",
      "Step:1400, Loss:0.1245, Accuracy:0.9688\n",
      "Step:1500, Loss:0.1636, Accuracy:0.9375\n",
      "Step:1600, Loss:0.2179, Accuracy:0.9531\n",
      "Step:1700, Loss:0.07288, Accuracy:0.9844\n",
      "Step:1800, Loss:0.4401, Accuracy:0.9531\n",
      "Step:1900, Loss:0.2677, Accuracy:0.9375\n",
      "Step:2000, Loss:0.2057, Accuracy:0.9688\n",
      "Step:2100, Loss:0.003752, Accuracy:1.0\n",
      "Step:2200, Loss:0.09071, Accuracy:0.9688\n",
      "Step:2300, Loss:0.05021, Accuracy:0.9844\n",
      "Step:2400, Loss:0.1264, Accuracy:0.9531\n",
      "Step:2500, Loss:0.03885, Accuracy:1.0\n",
      "Step:2600, Loss:0.3779, Accuracy:0.9531\n",
      "Step:2700, Loss:0.01752, Accuracy:1.0\n",
      "Step:2800, Loss:0.08609, Accuracy:0.9688\n",
      "Step:2900, Loss:0.01282, Accuracy:1.0\n",
      "Step:3000, Loss:0.09847, Accuracy:0.9688\n",
      "Step:3100, Loss:0.0109, Accuracy:1.0\n",
      "Step:3200, Loss:0.1299, Accuracy:0.9688\n",
      "Step:3300, Loss:0.08353, Accuracy:0.9688\n",
      "Step:3400, Loss:0.03155, Accuracy:0.9844\n",
      "Step:3500, Loss:0.296, Accuracy:0.9375\n",
      "Step:3600, Loss:0.09298, Accuracy:0.9688\n",
      "Step:3700, Loss:0.02947, Accuracy:0.9844\n",
      "Step:3800, Loss:0.1233, Accuracy:0.9844\n",
      "Step:3900, Loss:0.04646, Accuracy:0.9844\n",
      "Step:4000, Loss:0.007926, Accuracy:1.0\n",
      "Step:4100, Loss:0.2328, Accuracy:0.9688\n",
      "Step:4200, Loss:0.1097, Accuracy:0.9844\n",
      "Step:4300, Loss:0.5136, Accuracy:0.9531\n",
      "Step:4400, Loss:0.006304, Accuracy:1.0\n",
      "Step:4500, Loss:0.06504, Accuracy:0.9688\n",
      "Step:4600, Loss:0.139, Accuracy:0.9531\n"
     ]
    }
   ],
   "source": [
    "loss = keras.losses.SparseCategoricalCrossentropy()\n",
    "opt = tf.keras.optimizers.Adam(learning_rate=0.01)\n",
    "for _ in range(5):\n",
    "    for X, y in trainsets:\n",
    "        pred, lv = train_step(X, y)\n",
    "        pred_idx = tf.argmax(pred, axis=1)\n",
    "\n",
    "        if opt.iterations.numpy() % 100 == 0:\n",
    "            print(\"Step:{}, Loss:{:.4}, Accuracy:{:.4}\".format(opt.iterations.numpy(),\n",
    "                                               loss(y, pred),\n",
    "                                               sum(np.equal(pred_idx.numpy(), y))/len(y)))"
   ]
  },
  {
   "cell_type": "code",
   "execution_count": 12,
   "metadata": {},
   "outputs": [],
   "source": [
    "def eval(model, X, y, metric_loss, metric_acc):\n",
    "    ebd = model(X)\n",
    "    prob = source_classifier(ebd)\n",
    "    lv = loss(y, prob)\n",
    "    \n",
    "    metric_loss(lv)\n",
    "    metric_acc(y, prob)"
   ]
  },
  {
   "cell_type": "code",
   "execution_count": 13,
   "metadata": {},
   "outputs": [
    {
     "name": "stdout",
     "output_type": "stream",
     "text": [
      "tf.Tensor(0.13808377, shape=(), dtype=float32)\n",
      "tf.Tensor(0.967, shape=(), dtype=float32)\n"
     ]
    }
   ],
   "source": [
    "loss_avg = keras.metrics.Mean()\n",
    "accuracy = keras.metrics.SparseCategoricalAccuracy()\n",
    "for X, y in testsets:\n",
    "    eval(source_encoder, X, y, loss_avg, accuracy)\n",
    "print(loss_avg.result())\n",
    "print(accuracy.result())"
   ]
  },
  {
   "cell_type": "code",
   "execution_count": 14,
   "metadata": {},
   "outputs": [
    {
     "name": "stderr",
     "output_type": "stream",
     "text": [
      "WARNING: Logging before flag parsing goes to stderr.\n",
      "W1204 23:23:00.646548 140018897344256 hdf5_format.py:224] No training configuration found in save file: the model was *not* compiled. Compile it manually.\n"
     ]
    }
   ],
   "source": [
    "source_encoder.save('pre_weights.h5')\n",
    "target_encoder = keras.models.load_model('pre_weights.h5')"
   ]
  },
  {
   "cell_type": "code",
   "execution_count": 15,
   "metadata": {},
   "outputs": [
    {
     "name": "stdout",
     "output_type": "stream",
     "text": [
      "tf.Tensor(0.13808377, shape=(), dtype=float32)\n",
      "tf.Tensor(0.967, shape=(), dtype=float32)\n"
     ]
    }
   ],
   "source": [
    "loss_avg = keras.metrics.Mean()\n",
    "accuracy = keras.metrics.SparseCategoricalAccuracy()\n",
    "for X, y in testsets:\n",
    "    eval(target_encoder, X, y, loss_avg, accuracy)\n",
    "print(loss_avg.result())\n",
    "print(accuracy.result())"
   ]
  },
  {
   "cell_type": "code",
   "execution_count": 37,
   "metadata": {},
   "outputs": [],
   "source": [
    "critic = Critics()\n",
    "target_optimizer = tf.keras.optimizers.Adam(1e-4)\n",
    "discriminator_optimizer = tf.keras.optimizers.Adam(1e-4)\n",
    "cross_entropy = tf.keras.losses.BinaryCrossentropy()"
   ]
  },
  {
   "cell_type": "code",
   "execution_count": 38,
   "metadata": {},
   "outputs": [],
   "source": [
    "def discriminator_loss(real_output, fake_output):\n",
    "    real_loss = cross_entropy(tf.ones_like(real_output), real_output)\n",
    "    fake_loss = cross_entropy(tf.zeros_like(fake_output), fake_output)\n",
    "    total_loss = real_loss + fake_loss\n",
    "    return total_loss\n",
    "\n",
    "def generator_loss(fake_output):\n",
    "    return cross_entropy(tf.ones_like(fake_output), fake_output)"
   ]
  },
  {
   "cell_type": "code",
   "execution_count": 39,
   "metadata": {},
   "outputs": [],
   "source": [
    "@tf.function\n",
    "def train_others(img_src, img_tgt):\n",
    "    # discriminator\n",
    "    with tf.GradientTape() as disc_tape:\n",
    "        source_ebd = source_encoder(img_src, training=False)\n",
    "        target_ebd = target_encoder(img_tgt, training=False)\n",
    "        concat_ebd = tf.concat([source_ebd, target_ebd], 0)\n",
    "\n",
    "        concat_pred = critic(concat_ebd, training=True)\n",
    "        \n",
    "        source_label = tf.ones_like(source_ebd)\n",
    "        target_label = tf.zeros_like(target_ebd)\n",
    "        concat_label = tf.concat([source_label, target_label], 0)\n",
    "        \n",
    "        disc_loss = cross_entropy(concat_label, concat_pred)\n",
    "\n",
    "    disc_grads = disc_tape.gradient(disc_loss, critic.trainable_variables)\n",
    "    discriminator_optimizer.apply_gradients(zip(disc_grads, critic.trainable_variables))\n",
    "    \n",
    "    with tf.GradientTape() as tgt_tape:\n",
    "        target_ebd = target_encoder(img_tgt, training=True)\n",
    "        target_pred = critic(target_ebd, training=False)\n",
    "        target_label = tf.ones_like(target_pred)\n",
    "        \n",
    "        target_loss = cross_entropy(target_label, target_pred)\n",
    "        \n",
    "    target_grads = tgt_tape.gradient(target_loss, target_encoder.trainable_variables)\n",
    "    target_optimizer.apply_gradients(zip(target_grads, target_encoder.trainable_variables))"
   ]
  },
  {
   "cell_type": "code",
   "execution_count": 40,
   "metadata": {},
   "outputs": [],
   "source": [
    "train_others(mnist_X[:16], usps_X[:16])"
   ]
  },
  {
   "cell_type": "code",
   "execution_count": null,
   "metadata": {},
   "outputs": [],
   "source": []
  }
 ],
 "metadata": {
  "kernelspec": {
   "display_name": "Python 3",
   "language": "python",
   "name": "python3"
  },
  "language_info": {
   "codemirror_mode": {
    "name": "ipython",
    "version": 3
   },
   "file_extension": ".py",
   "mimetype": "text/x-python",
   "name": "python",
   "nbconvert_exporter": "python",
   "pygments_lexer": "ipython3",
   "version": "3.6.9"
  }
 },
 "nbformat": 4,
 "nbformat_minor": 2
}
